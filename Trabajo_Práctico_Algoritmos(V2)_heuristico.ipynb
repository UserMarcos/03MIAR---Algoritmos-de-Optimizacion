{
  "nbformat": 4,
  "nbformat_minor": 0,
  "metadata": {
    "colab": {
      "provenance": [],
      "include_colab_link": true
    },
    "kernelspec": {
      "name": "python3",
      "display_name": "Python 3"
    }
  },
  "cells": [
    {
      "cell_type": "markdown",
      "metadata": {
        "id": "view-in-github",
        "colab_type": "text"
      },
      "source": [
        "<a href=\"https://colab.research.google.com/github/UserMarcos/03MIAR---Algoritmos-de-Optimizacion/blob/main/Trabajo_Pr%C3%A1ctico_Algoritmos(V2)_heuristico.ipynb\" target=\"_parent\"><img src=\"https://colab.research.google.com/assets/colab-badge.svg\" alt=\"Open In Colab\"/></a>"
      ]
    },
    {
      "cell_type": "markdown",
      "metadata": {
        "id": "hVbXYX-RfPWh"
      },
      "source": [
        "# Algoritmos de optimización - Trabajo Práctico<br>\n",
        "Nombre y Apellidos: Marcos Castro Castro  <br>\n",
        "Url: https://github.com/.../03MAIR---Algoritmos-de-Optimizacion---/tree/master/TrabajoPractico<br>\n",
        "Google Colab: https://colab.research.google.com/drive/xxxxxxxxxxxxxxxx <br>\n",
        "Problema:\n",
        ">1. Sesiones de doblaje <br>\n",
        ">2. Organizar los horarios de partidos de La Liga<br>\n",
        ">3. Configuración de Tribunales\n",
        "\n",
        "Descripción del problema:(copiar enunciado)\n",
        "\n",
        "## Problema 1. Organizar sesiones de doblaje(I)\n",
        "Se precisa coordinar el doblaje de una película. Los actores del doblaje deben coincidir en las tomas en las que sus personajes aparecen juntos en las diferentes tomas. Los actores de doblaje cobran todos la misma cantidad por cada día que deben desplazarse hasta el estudio de grabación independientemente del número de tomas que se graben. No es posible grabar más de 6 tomas por día. El objetivo es planificar las sesiones por día de manera que el gasto por los\n",
        "servicios de los actores de doblaje sea el menor posible. Los datos son:\n",
        "- Número de actores: 10\n",
        "- Número de tomas : 30\n",
        "- Actores/Tomas : https://bit.ly/36D8IuK\n",
        "  - 1 indica que el actor participa en la toma\n",
        "  - 0 en caso contrario"
      ]
    },
    {
      "cell_type": "markdown",
      "source": [
        "#Modelo\n",
        "- ¿Como represento el espacio de soluciones?\n",
        "- ¿Cual es la función objetivo?\n",
        "- ¿Como implemento las restricciones?"
      ],
      "metadata": {
        "id": "Sbo9IqQtpaHZ"
      }
    },
    {
      "cell_type": "markdown",
      "source": [
        "## Representación del problema\n",
        "El problema se representa con una lista de conjuntos. Cada conjunto es una toma, y contiene los números de actores que lo forman."
      ],
      "metadata": {
        "id": "DQ12-nPIsVOm"
      }
    },
    {
      "cell_type": "code",
      "metadata": {
        "id": "AiskKkzZfy4e"
      },
      "source": [
        "# Creamos la tabla de tomas\n",
        "Numero_actores = 10\n",
        "\n",
        "Actores_por_Toma = [\n",
        "    {1, 2, 3, 4, 5},  # Toma 1\n",
        "    {3, 4, 5},        # Toma 2\n",
        "    {2, 5, 7},        # Toma 3\n",
        "    {1, 2, 7, 8},     # Toma 4\n",
        "    {2, 4, 8},        # Toma 5\n",
        "    {1, 2, 4, 5},     # Toma 6\n",
        "    {1, 2, 4, 5},     # Toma 7\n",
        "    {1, 2, 6},        # Toma 8\n",
        "    {1, 2, 4},        # Toma 9\n",
        "    {1, 2, 6, 9},     # Toma 10\n",
        "    {1, 2, 3, 5, 8},  # Toma 11\n",
        "    {1, 2, 3, 4, 6},  # Toma 12\n",
        "    {1, 4, 5},        # Toam 13\n",
        "    {1, 3, 6},        # Toma 14\n",
        "    {1, 2, 7},        # Toma 15\n",
        "    {4, 10},          # Toma 16\n",
        "    {1, 3},           # Toma 17\n",
        "    {3, 6},           # Toma 18\n",
        "    {1, 3},           # Toma 19\n",
        "    {1, 3, 4, 5},     # Toma 20\n",
        "    {6, 8},           # Toma 21\n",
        "    {1, 2, 3, 4},     # Toma 22\n",
        "    {1, 3},           # Toma 23\n",
        "    {3, 6},           # Toma 24\n",
        "    {1, 2, 4, 10},    # Toma 25\n",
        "    {1, 3, 5, 9},     # Toma 26\n",
        "    {4, 5},           # Toma 27\n",
        "    {1, 4},           # Toma 28\n",
        "    {1, 5, 6},        # Toma 29\n",
        "    {1, 4}            # Toma 30\n",
        "    ]"
      ],
      "execution_count": 1,
      "outputs": []
    },
    {
      "cell_type": "markdown",
      "source": [
        "Aquí el contaje de cuantos actores hay por toma, y en cuantas tomas trabaja cada actor"
      ],
      "metadata": {
        "id": "67p_vszBposu"
      }
    },
    {
      "cell_type": "code",
      "source": [
        "N_Actores_por_toma = [len(x) for x in Actores_por_Toma]\n",
        "print(\"Número de actores por toma: \", N_Actores_por_toma)\n",
        "\n",
        "N_Tomas_por_actor = []\n",
        "for i in range(Numero_actores):\n",
        "  Numero_tomas = 0\n",
        "  for Toma in Actores_por_Toma:\n",
        "    if i+1 in Toma:\n",
        "      Numero_tomas = Numero_tomas + 1\n",
        "  N_Tomas_por_actor.append(Numero_tomas)\n",
        "\n",
        "print(\"Número de tomas por actor: \", N_Tomas_por_actor)"
      ],
      "metadata": {
        "id": "CZ-5BmpspttV",
        "colab": {
          "base_uri": "https://localhost:8080/"
        },
        "outputId": "de0bd68d-43b3-49b9-d40a-c9c25cf2bc2d"
      },
      "execution_count": 2,
      "outputs": [
        {
          "output_type": "stream",
          "name": "stdout",
          "text": [
            "Número de actores por toma:  [5, 3, 3, 4, 3, 4, 4, 3, 3, 4, 5, 5, 3, 3, 3, 2, 2, 2, 2, 4, 2, 4, 2, 2, 4, 4, 2, 2, 3, 2]\n",
            "Número de tomas por actor:  [22, 14, 13, 15, 11, 8, 3, 4, 2, 2]\n"
          ]
        }
      ]
    },
    {
      "cell_type": "markdown",
      "source": [
        "## Representación de la solucción\n",
        "La solucción se representa como una lista de números enteros. Cada elemento representa una toma y el número es el día que se hará la toma. Así si tenemos\n",
        "```S = [1, 1, 2, 2]```\n",
        ", entendemos que las tomas 1 y 2 fueron el día 1 y las tomas 3 y 4 el día 2.\n",
        "\n",
        "### Restricciones\n",
        "La solucción no puede tener de 6 veces el mísmo número en la lista.\n",
        "\n",
        "Hay que evitar que haya más de una forma de representar la misma solución. Si tenemos:\n",
        "```\n",
        "S1 = [1, 1, 2, 2]\n",
        "S2 = [2, 2, 1, 1]\n",
        "S3 = [4, 4, 0, 0]\n",
        "```\n",
        "Representan la misma solucción. Esto se puede evitar restringiendo el número de día que puede tener cada toma. Si tenemos una serie de N tomas, la toma nº _i_ (0<=i<N) puede tener el número de día:\n",
        "\n",
        "* _i_\n",
        "* Un número de día tal que en la subserie de la solucción de 0 a i-1 ya exista ese número de día más de 0 veces y menos de 6 veces.\n",
        "\n",
        "Con estas restrinciones la única representación válida de las soluciones anteriores sería:\n",
        "\n",
        "\n",
        "```\n",
        "S = [0, 0, 2, 2]\n",
        "```\n",
        "\n",
        "En la siguiente función le damos como parámetro una lista de días de longitud _k_ tomas y nos devuelve una lista de días válidos que puede tomar la siguiente toma de la lista."
      ],
      "metadata": {
        "id": "Q4gGK0w53MJ2"
      }
    },
    {
      "cell_type": "code",
      "source": [
        "def Get_Posibles_Dias(Dias_Toma):\n",
        "  Hijos = []\n",
        "  long = len(Dias_Toma)\n",
        "  for i in range(long):\n",
        "    n = Dias_Toma.count(i)\n",
        "    if n < 6 and n > 0:\n",
        "      Hijos.append(i)\n",
        "  Hijos.append(long)\n",
        "  return Hijos\n",
        "\n",
        "Dia_por_Toma = [0, 1, 0, 2, 2]\n",
        "print(Get_Posibles_Dias(Dia_por_Toma))"
      ],
      "metadata": {
        "colab": {
          "base_uri": "https://localhost:8080/"
        },
        "id": "y51Nj2ZWs57I",
        "outputId": "4caf9107-52c6-4a75-8905-42e303f7610d"
      },
      "execution_count": 5,
      "outputs": [
        {
          "output_type": "stream",
          "name": "stdout",
          "text": [
            "[0, 1, 2, 5]\n"
          ]
        }
      ]
    },
    {
      "cell_type": "code",
      "source": [
        "import random         #Para generar valores aleatorios\n",
        "import math           #Modulo de funciones matematicas. Se usa para exp"
      ],
      "metadata": {
        "id": "IaJavx7s4t1t"
      },
      "execution_count": 7,
      "outputs": []
    },
    {
      "cell_type": "markdown",
      "source": [
        "La siguiente función crea una solucción aleatoria"
      ],
      "metadata": {
        "id": "LA5hK7vsyoYs"
      }
    },
    {
      "cell_type": "code",
      "source": [
        "def Crear_Solucion(N):\n",
        "  solucion = []\n",
        "  for i in range(N):\n",
        "    solucion.append(random.choice(Get_Posibles_Dias(solucion)))\n",
        "  return solucion\n",
        "\n",
        "#Solucion = Crear_Solucion(30)\n",
        "#print(Solucion)\n",
        "\n",
        "Solucion = Crear_Solucion(10)\n",
        "print(Solucion)\n",
        "print(Get_Posibles_Dias(Solucion))"
      ],
      "metadata": {
        "id": "ZdKPjB9gp2BA",
        "colab": {
          "base_uri": "https://localhost:8080/"
        },
        "outputId": "6fecd324-421d-4257-8662-0dd8fe05646e"
      },
      "execution_count": 29,
      "outputs": [
        {
          "output_type": "stream",
          "name": "stdout",
          "text": [
            "[0, 1, 0, 3, 1, 3, 3, 1, 1, 9]\n",
            "[0, 1, 3, 9, 10]\n"
          ]
        }
      ]
    },
    {
      "cell_type": "markdown",
      "source": [
        "Función para calcular el coste de una solucción de entrada"
      ],
      "metadata": {
        "id": "UPQ4kBig0Bt0"
      }
    },
    {
      "cell_type": "code",
      "source": [
        "def Get_Actores_Dia(Dias_Toma, Actores_Toma):\n",
        "  Actores_Dia = dict()\n",
        "  for i in range(len(Dias_Toma)):\n",
        "    N_Dia = Dias_Toma[i]\n",
        "    if  N_Dia in Actores_Dia:\n",
        "      Actores_Dia[N_Dia].update(Actores_Toma[i])\n",
        "    else:\n",
        "      Actores_Dia[N_Dia] = Actores_Toma[i].copy()\n",
        "  return Actores_Dia\n",
        "\n",
        "def Get_Coste(Dias_Toma, Actores_Toma):\n",
        "  Actores_Dia = Get_Actores_Dia(Dias_Toma, Actores_Toma)\n",
        "  Coste = 0\n",
        "  for Dia in Actores_Dia:\n",
        "    Coste += len(Actores_Dia[Dia])\n",
        "  return Coste\n",
        "\n",
        "Dia_por_Toma = [0, 1, 0, 3, 3]\n",
        "Actores_Dia = Get_Actores_Dia(Dia_por_Toma, Actores_por_Toma)\n",
        "print(Actores_Dia)\n",
        "print(Get_Coste(Dia_por_Toma, Actores_por_Toma))"
      ],
      "metadata": {
        "id": "uNwGHVELVLqU",
        "outputId": "226fc312-db08-4f26-e430-b0e31b7ed1ae",
        "colab": {
          "base_uri": "https://localhost:8080/"
        }
      },
      "execution_count": 13,
      "outputs": [
        {
          "output_type": "stream",
          "name": "stdout",
          "text": [
            "{0: {1, 2, 3, 4, 5, 7}, 1: {3, 4, 5}, 3: {1, 2, 4, 7, 8}}\n",
            "14\n"
          ]
        }
      ]
    },
    {
      "cell_type": "markdown",
      "source": [
        "El objetivo es encontrar la solucción que de el coste mínimo\n",
        "#Análisis\n",
        "- ¿Que complejidad tiene el problema?. Orden de complejidad y Contabilizar el espacio de soluciones"
      ],
      "metadata": {
        "id": "HZz52wOppp-U"
      }
    },
    {
      "cell_type": "markdown",
      "source": [
        "Con las restricciónes el nº de posibles días de cada toma _i_ va desde 2 hasta _i_. Esto no es válido con la primera toma, porque sólo puede tomar como valor el día 0. Por esto el número de posibles soluciones está comprendido entre $2^N$ y $(N-1)!$.\n",
        "\n",
        "La búsqueda de la solucción optima tiene una complegidad $2^N$."
      ],
      "metadata": {
        "id": "Q6h9EizNVIRq"
      }
    },
    {
      "cell_type": "markdown",
      "source": [
        "#Diseño\n",
        "- ¿Que técnica utilizo? ¿Por qué?"
      ],
      "metadata": {
        "id": "ixEJUwH_pv7M"
      }
    },
    {
      "cell_type": "code",
      "source": [
        "def Get_Coste(Actores_Dia):\n",
        "  Coste = 0\n",
        "  for Dia in Actores_Dia:\n",
        "    Coste += len(Actores_Dia[Dia])\n",
        "  return Coste\n",
        "\n",
        "def Get_Coste_Inf(Dias_Toma, Actores_Toma):\n",
        "  Valor = Get_Coste(Get_Actores_Dia(Dias_Toma, Actores_Toma))\n",
        "\n",
        "  # Estimación\n",
        "  for i in range(Numero_actores):\n",
        "    Numero_tomas = 0\n",
        "    for j in range(len(Dias_Toma), len(Actores_Toma)):\n",
        "      if i+1 in Actores_Toma[j]:\n",
        "        Numero_tomas += 1\n",
        "    Valor += (Numero_tomas - len(Dias_Toma))//6\n",
        "  return Valor\n",
        "\n",
        "def Get_Coste_Sup(Dias_Toma, Actores_Toma):\n",
        "  Valor = Get_Coste(Get_Actores_Dia(Dias_Toma, Actores_Toma))\n",
        "\n",
        "  # Estimación\n",
        "  for i in range(len(Dias_Toma), len(Actores_Toma)):\n",
        "    Valor += len(Actores_Toma)\n",
        "  return Valor\n",
        "\n",
        "print(Get_Coste(Actores_Dia))\n",
        "\n",
        "print(Get_Coste_Sup(Dia_por_Toma, Actores_por_Toma))"
      ],
      "metadata": {
        "id": "Rqs-F5GtGNek",
        "outputId": "a2045e1b-0ff6-41bc-ef06-8cb9f95f928e",
        "colab": {
          "base_uri": "https://localhost:8080/"
        }
      },
      "execution_count": null,
      "outputs": [
        {
          "output_type": "stream",
          "name": "stdout",
          "text": [
            "14\n",
            "764\n"
          ]
        }
      ]
    },
    {
      "cell_type": "code",
      "source": [
        "def Crear_Hijos(Nodo):\n",
        "  Hijos = []\n",
        "  long = len(Nodo)\n",
        "  for i in range(long):\n",
        "    n = Nodo.count(i)\n",
        "    if n < 6 and n > 0:\n",
        "      Hijos.append({'s':Nodo +(i,)})\n",
        "  Hijos.append({'s':Nodo +(long,)})\n",
        "  return Hijos\n",
        "\n",
        "Crear_Hijos((0, 0, 2))"
      ],
      "metadata": {
        "id": "4QnkMA4oAKZy",
        "outputId": "6f02bf03-7817-4bf1-b3d5-8f3ae1603366",
        "colab": {
          "base_uri": "https://localhost:8080/"
        }
      },
      "execution_count": null,
      "outputs": [
        {
          "output_type": "execute_result",
          "data": {
            "text/plain": [
              "[{'s': (0, 0, 2, 0)}, {'s': (0, 0, 2, 2)}, {'s': (0, 0, 2, 3)}]"
            ]
          },
          "metadata": {},
          "execution_count": 12
        }
      ]
    },
    {
      "cell_type": "code",
      "source": [
        "def Get_Posibles_Dias(Dias_Toma, nToma):\n",
        "  Posibles = [nToma]\n",
        "  dias = tuple(set(Dias_Toma))\n",
        "  for d in dias:\n",
        "    N = Dias_Toma.count(d)\n",
        "    if N < 6 and d != Dias_Toma[nToma]:\n",
        "      Posibles.append(d)\n",
        "  return Posibles\n",
        "\n",
        "Dia_por_Toma = [0, 0, 0, 3, 3, 0, 6, 6, 3, 0, 10, 11, 6, 10, 6, 3, 3, 6, 6, 0, 10, 10, 3, 11, 11, 11, 10, 11, 11, 10]\n",
        "Posibles_dias = Get_Posibles_Dias(Dia_por_Toma, 2)\n",
        "print(Posibles_dias)\n",
        "Posibles_dias = Get_Posibles_Dias(Dia_por_Toma, 2)\n",
        "print(Posibles_dias)\n"
      ],
      "metadata": {
        "id": "f_qZXRH-A6Hm",
        "outputId": "dfaa665b-ccb1-4cd3-da99-f781f90f2029",
        "colab": {
          "base_uri": "https://localhost:8080/"
        }
      },
      "execution_count": 30,
      "outputs": [
        {
          "output_type": "stream",
          "name": "stdout",
          "text": [
            "[2]\n"
          ]
        }
      ]
    },
    {
      "cell_type": "markdown",
      "source": [
        "def Cambio_Dia("
      ],
      "metadata": {
        "id": "wOjM1micUe63"
      }
    },
    {
      "cell_type": "code",
      "source": [
        "def Cambio_Dia(Dias_Toma, nToma, nDia):\n",
        "  # Cambia la toma 'nToma' al día 'nDia'\n",
        "  nP = -1\n",
        "  dia_anterior = Dias_Toma[nToma]\n",
        "  if (nDia <= nToma):\n",
        "    Dias_Toma[nToma] = nDia\n",
        "    for i in range(nToma+1, len(Dias_Toma)):\n",
        "      if Dias_Toma[i] == nToma:\n",
        "        if nP < 0:\n",
        "          nP = i\n",
        "        Dias_Toma[i] = nP\n",
        "  else:\n",
        "    Dias_Toma[nToma] = nToma\n",
        "    for i in range(nToma+1, len(Dias_Toma)):\n",
        "      if Dias_Toma[i] == nToma:\n",
        "        if nP < 0:\n",
        "          nP = i\n",
        "        Dias_Toma[i] = nP\n",
        "\n",
        "      if Dias_Toma[i] == nDia:\n",
        "        Dias_Toma[i] = nToma\n",
        "  if nP<0:\n",
        "    nP = dia_anterior\n",
        "  return nP\n",
        "\n",
        "def Reformar_Dias(Dias_Toma):\n",
        "  N = len(Dias_Toma)\n",
        "  for i in range(N):\n",
        "    dia = Dias_Toma[i]\n",
        "    if dia > i or Dias_Toma[dia] != dia:\n",
        "      Dias_Toma[i] = i\n",
        "      for j in range(i+1, N):\n",
        "        if Dias_Toma[j] == dia:\n",
        "          Dias_Toma[j] = i\n",
        "\n",
        "Dia_por_Toma = [0, 0, 0, 3, 3, 0, 6, 6, 3, 0, 10, 11, 6, 10, 6, 3, 3, 6, 6, 0, 10, 10, 3, 11, 11, 11, 10, 11, 11, 10]\n",
        "\n",
        "print(\" \", Dia_por_Toma)\n",
        "n = Cambio_Dia(Dia_por_Toma, 3, 0)\n",
        "print(n, Dia_por_Toma)\n",
        "n = Cambio_Dia(Dia_por_Toma, 1, n)\n",
        "print(n, Dia_por_Toma)\n",
        "\n",
        "# n = Cambio_Dia(Dia_por_Toma, 2, 0)\n",
        "# print(n, Dia_por_Toma)"
      ],
      "metadata": {
        "id": "3uwbeISDVIh_",
        "outputId": "2e062b64-05ec-46cc-8e74-7c5abc0d7830",
        "colab": {
          "base_uri": "https://localhost:8080/"
        }
      },
      "execution_count": null,
      "outputs": [
        {
          "output_type": "stream",
          "name": "stdout",
          "text": [
            "  [0, 0, 0, 3, 3, 0, 6, 6, 3, 0, 10, 11, 6, 10, 6, 3, 3, 6, 6, 0, 10, 10, 3, 11, 11, 11, 10, 11, 11, 10]\n",
            "4 [0, 0, 0, 0, 4, 0, 6, 6, 4, 0, 10, 11, 6, 10, 6, 4, 4, 6, 6, 0, 10, 10, 4, 11, 11, 11, 10, 11, 11, 10]\n",
            "0 [0, 1, 0, 0, 1, 0, 6, 6, 1, 0, 10, 11, 6, 10, 6, 1, 1, 6, 6, 0, 10, 10, 1, 11, 11, 11, 10, 11, 11, 10]\n"
          ]
        }
      ]
    },
    {
      "cell_type": "code",
      "source": [
        "def genera_vecina(Dias_Toma, Actores_Toma):\n",
        "  mejor_solucion = []\n",
        "  mejor_coste = 10e100\n",
        "  N = len(Dias_Toma)\n",
        "  for i in range(N):\n",
        "    posibles = Get_Posibles_Dias(Dias_Toma, i)\n",
        "    #print(\"Toma \", i, \" posibles días: \", posibles)\n",
        "    for dia in posibles:\n",
        "      vecina = Dias_Toma.copy()\n",
        "      Cambio_Dia(vecina, i, dia)\n",
        "      vecina_coste = Get_Coste(Get_Actores_Dia(vecina, Actores_Toma))\n",
        "\n",
        "      if vecina_coste <= mejor_coste:\n",
        "        mejor_coste = vecina_coste\n",
        "        mejor_solucion = vecina\n",
        "\n",
        "    for j in range(i+1, N):\n",
        "      # Intercambiamos dias\n",
        "      vecina = Dias_Toma.copy()\n",
        "      d = Cambio_Dia(vecina, i, vecina[j])\n",
        "      Cambio_Dia(vecina, j, d)\n",
        "      vecina_coste = Get_Coste(Get_Actores_Dia(vecina, Actores_Toma))\n",
        "\n",
        "      if vecina_coste <= mejor_coste:\n",
        "        mejor_coste = vecina_coste\n",
        "        mejor_solucion = vecina\n",
        "  return mejor_solucion\n",
        "\n",
        "Dia_por_Toma = [0, 0, 0, 3, 3, 0, 6, 6, 3, 0, 10, 11, 6, 10, 6, 3, 3, 6, 6, 0, 10, 10, 3, 11, 11, 11, 10, 11, 11, 10]\n",
        "#Crear_Solucion(len(Actores_por_Toma))\n",
        "print(Dia_por_Toma)\n",
        "print(\"Coste solución inicial: \", Get_Coste(Get_Actores_Dia(Dia_por_Toma, Actores_por_Toma)))\n",
        "\n",
        "nueva_solucion = genera_vecina(Dia_por_Toma, Actores_por_Toma)\n",
        "print(nueva_solucion)\n",
        "print(\"Coste solución vecina: \", Get_Coste(Get_Actores_Dia(nueva_solucion, Actores_por_Toma)))"
      ],
      "metadata": {
        "id": "kwCq2Tu0kDxF",
        "outputId": "3b1927d7-6aa1-4c46-84bf-7c215fd21b0a",
        "colab": {
          "base_uri": "https://localhost:8080/"
        }
      },
      "execution_count": null,
      "outputs": [
        {
          "output_type": "stream",
          "name": "stdout",
          "text": [
            "[0, 0, 0, 3, 3, 0, 6, 6, 3, 0, 10, 11, 6, 10, 6, 3, 3, 6, 6, 0, 10, 10, 3, 11, 11, 11, 10, 11, 11, 10]\n",
            "Coste solución inicial:  37\n",
            "[0, 0, 0, 3, 3, 0, 6, 6, 3, 9, 10, 9, 6, 10, 6, 3, 3, 6, 6, 0, 10, 10, 3, 9, 9, 9, 10, 0, 9, 10]\n",
            "Coste solución vecina:  35\n"
          ]
        }
      ]
    },
    {
      "cell_type": "code",
      "source": [
        "nueva_solucion = genera_vecina(nueva_solucion, Actores_por_Toma)\n",
        "print(nueva_solucion)\n",
        "print(\"Coste solución vecina: \", Get_Coste(Get_Actores_Dia(nueva_solucion, Actores_por_Toma)))\n",
        "\n",
        "nueva_solucion = genera_vecina(nueva_solucion, Actores_por_Toma)\n",
        "print(nueva_solucion)\n",
        "print(\"Coste solución vecina: \", Get_Coste(Get_Actores_Dia(nueva_solucion, Actores_por_Toma)))"
      ],
      "metadata": {
        "id": "k8-PDYuVmi5k",
        "colab": {
          "base_uri": "https://localhost:8080/"
        },
        "outputId": "d1b973e5-0221-4ac8-b747-e3d70a931bff"
      },
      "execution_count": null,
      "outputs": [
        {
          "output_type": "stream",
          "name": "stdout",
          "text": [
            "[0, 0, 0, 3, 3, 0, 6, 6, 3, 9, 10, 9, 6, 10, 6, 3, 3, 6, 6, 0, 10, 10, 9, 9, 3, 9, 10, 0, 9, 10]\n",
            "Coste solución vecina:  34\n",
            "[0, 0, 0, 3, 3, 0, 6, 6, 3, 9, 10, 9, 6, 10, 3, 3, 6, 6, 6, 0, 10, 10, 9, 9, 3, 9, 10, 0, 9, 10]\n",
            "Coste solución vecina:  32\n"
          ]
        }
      ]
    },
    {
      "cell_type": "code",
      "source": [
        "# Búsqueda local\n",
        "def Busqueda_Local(Actores_Toma):\n",
        "  mejor_solucion = []\n",
        "\n",
        "  # Generar una solucion inicial de referencia(aleatoria)\n",
        "  Solucion_Referencia = Crear_Solucion(len(Actores_Toma))\n",
        "  #Solucion_Referencia = [0, 0, 2, 3, 4, 0, 2, 2, 0, 9, 10, 9, 9, 2, 10, 15, 0, 2, 15, 10, 4, 0, 2, 3, 24, 4, 3, 24, 28, 10]\n",
        "  #Solucion_Referencia = [x for x in range(30)]\n",
        "  Mejor_Distancia = Get_Coste(Get_Actores_Dia(Solucion_Referencia, Actores_Toma))\n",
        "\n",
        "  #mejor_solucion = Solucion_Referencia\n",
        "\n",
        "  print(\"Solución inicial  es:\" , Solucion_Referencia)\n",
        "  print(\"Distancia     :\" , Mejor_Distancia)\n",
        "\n",
        "  iteracion = 0            #Un contador para saber las iteraciones que hacemos\n",
        "  while(iteracion < 2000):\n",
        "    iteracion +=1         #Incrementamos el contador\n",
        "\n",
        "     #Obtenemos la mejor vecina ...\n",
        "    vecina = genera_vecina(Solucion_Referencia, Actores_Toma)\n",
        "\n",
        "    #... y la evaluamos para ver si mejoramos respecto a lo encontrado hasta el momento\n",
        "    distancia_vecina = Get_Coste(Get_Actores_Dia(vecina, Actores_Toma))\n",
        "\n",
        "    print(\"En la iteracion \", iteracion, \", la mejor solución encontrada es:\" , vecina)\n",
        "    print(\"Distancia     :\" , distancia_vecina)\n",
        "\n",
        "    if distancia_vecina >= Mejor_Distancia:\n",
        "      return mejor_solucion\n",
        "\n",
        "    mejor_solucion = vecina\n",
        "    Mejor_Distancia = distancia_vecina\n",
        "\n",
        "    Solucion_Referencia = vecina\n",
        "\n",
        "sol = Busqueda_Local(Actores_por_Toma)\n",
        "print(sol)\n"
      ],
      "metadata": {
        "colab": {
          "base_uri": "https://localhost:8080/"
        },
        "id": "CBrBSZ5ybq2M",
        "outputId": "2da40019-8a2c-43e8-f6a9-99374427dfba"
      },
      "execution_count": null,
      "outputs": [
        {
          "output_type": "stream",
          "name": "stdout",
          "text": [
            "Solución inicial  es: [0, 1, 2, 2, 2, 2, 1, 2, 2, 1, 10, 11, 11, 10, 10, 0, 10, 0, 10, 1, 1, 21, 11, 0, 1, 0, 26, 27, 0, 29]\n",
            "Distancia     : 47\n",
            "En la iteracion  1 , la mejor solución encontrada es: [0, 1, 2, 2, 2, 2, 1, 2, 2, 1, 10, 11, 11, 10, 10, 0, 10, 0, 10, 1, 1, 11, 11, 0, 1, 0, 26, 27, 0, 29]\n",
            "Distancia     : 43\n",
            "En la iteracion  2 , la mejor solución encontrada es: [0, 1, 2, 2, 2, 2, 1, 2, 2, 1, 10, 11, 11, 10, 10, 0, 10, 0, 10, 1, 1, 11, 11, 0, 1, 0, 26, 27, 0, 27]\n",
            "Distancia     : 41\n",
            "En la iteracion  3 , la mejor solución encontrada es: [0, 1, 2, 2, 2, 2, 1, 2, 2, 1, 10, 11, 11, 10, 10, 0, 10, 0, 10, 1, 1, 11, 11, 0, 1, 0, 11, 27, 0, 27]\n",
            "Distancia     : 39\n",
            "En la iteracion  4 , la mejor solución encontrada es: [0, 1, 2, 2, 2, 2, 1, 2, 2, 1, 10, 11, 11, 10, 10, 0, 10, 0, 10, 1, 1, 11, 11, 0, 0, 1, 11, 27, 0, 27]\n",
            "Distancia     : 37\n",
            "En la iteracion  5 , la mejor solución encontrada es: [0, 1, 2, 2, 2, 2, 1, 7, 2, 1, 7, 11, 11, 7, 2, 0, 7, 0, 7, 1, 1, 11, 11, 0, 0, 1, 11, 27, 0, 27]\n",
            "Distancia     : 35\n",
            "En la iteracion  6 , la mejor solución encontrada es: [0, 1, 2, 2, 2, 2, 1, 7, 2, 1, 7, 11, 11, 7, 2, 0, 7, 0, 7, 1, 7, 11, 11, 0, 0, 1, 11, 27, 0, 27]\n",
            "Distancia     : 34\n",
            "En la iteracion  7 , la mejor solución encontrada es: [0, 1, 2, 2, 2, 2, 1, 7, 2, 1, 7, 1, 12, 7, 2, 0, 7, 0, 7, 12, 7, 12, 12, 0, 0, 1, 12, 27, 0, 27]\n",
            "Distancia     : 33\n",
            "En la iteracion  8 , la mejor solución encontrada es: [0, 1, 2, 2, 2, 2, 1, 7, 2, 1, 7, 1, 12, 7, 2, 0, 7, 0, 7, 12, 7, 1, 12, 0, 0, 1, 12, 27, 0, 27]\n",
            "Distancia     : 32\n",
            "En la iteracion  9 , la mejor solución encontrada es: [0, 1, 2, 2, 2, 2, 1, 7, 2, 1, 7, 1, 12, 7, 2, 0, 7, 0, 7, 12, 7, 1, 12, 0, 0, 1, 12, 27, 0, 12]\n",
            "Distancia     : 32\n",
            "[0, 1, 2, 2, 2, 2, 1, 7, 2, 1, 7, 1, 12, 7, 2, 0, 7, 0, 7, 12, 7, 1, 12, 0, 0, 1, 12, 27, 0, 27]\n"
          ]
        }
      ]
    },
    {
      "cell_type": "markdown",
      "source": [
        "# Recocido simulado"
      ],
      "metadata": {
        "id": "-QczHkjD4Eo8"
      }
    },
    {
      "cell_type": "code",
      "source": [
        "def genera_vecina_aleatorio(Dias_Toma):\n",
        "  N = len(Dias_Toma)\n",
        "  i = random.randint(0, N-1)\n",
        "\n",
        "  posibles = Get_Posibles_Dias(Dias_Toma, i)\n",
        "  #print(i, posibles)\n",
        "  j = random.randint(0, len(posibles)-1)\n",
        "\n",
        "  vecina = Dias_Toma.copy()\n",
        "  Cambio_Dia(vecina, i, posibles[j])\n",
        "  return vecina\n",
        "\n",
        "#Dia_por_Toma = [0, 0, 0, 3, 3, 0, 6, 6, 3, 0, 10, 11, 6, 10, 6, 3, 3, 6, 6, 0, 10, 10, 3, 11, 11, 11, 10, 11, 11, 10]\n",
        "Dia_por_Toma = Crear_Solucion(len(Actores_por_Toma))\n",
        "print(Dia_por_Toma)\n",
        "print(\"Coste solución inicial: \", Get_Coste(Get_Actores_Dia(Dia_por_Toma, Actores_por_Toma)))\n",
        "\n",
        "nueva_solucion = genera_vecina_aleatorio(Dia_por_Toma)\n",
        "print(nueva_solucion)\n",
        "print(\"Coste solución vecina: \", Get_Coste(Get_Actores_Dia(nueva_solucion, Actores_por_Toma)))"
      ],
      "metadata": {
        "colab": {
          "base_uri": "https://localhost:8080/"
        },
        "id": "2En6x7qI4Kzg",
        "outputId": "62d3b1d4-5195-472e-83ec-0854281945b6"
      },
      "execution_count": null,
      "outputs": [
        {
          "output_type": "stream",
          "name": "stdout",
          "text": [
            "[0, 0, 0, 0, 4, 5, 6, 5, 4, 4, 0, 11, 11, 11, 4, 6, 0, 6, 18, 4, 11, 5, 6, 23, 18, 5, 26, 26, 6, 18]\n",
            "Coste solución inicial:  47\n",
            "[0, 0, 0, 0, 4, 5, 6, 5, 4, 4, 0, 11, 11, 11, 4, 6, 0, 6, 18, 4, 11, 5, 6, 23, 18, 5, 26, 26, 6, 6]\n",
            "Coste solución vecina:  47\n"
          ]
        }
      ]
    },
    {
      "cell_type": "code",
      "source": [
        "#Funcion de probabilidad para aceptar peores soluciones\n",
        "def probabilidad(T,d):\n",
        "  if random.random() <  math.exp( -1*d / T)  :\n",
        "    return True\n",
        "  else:\n",
        "    return False\n",
        "\n",
        "#Funcion de descenso de temperatura\n",
        "def bajar_temperatura(T):\n",
        "  return T*0.99"
      ],
      "metadata": {
        "id": "JKYQnvZ69En2"
      },
      "execution_count": null,
      "outputs": []
    },
    {
      "cell_type": "code",
      "source": [
        "def recocido_simulado(Actores_Toma, TEMPERATURA):\n",
        "  mejor_solucion = []\n",
        "\n",
        "  # Generar una solucion inicial de referencia(aleatoria)\n",
        "  Solucion_Referencia = Crear_Solucion(len(Actores_Toma))\n",
        "  #Solucion_Referencia = [0, 0, 2, 3, 4, 0, 2, 2, 0, 9, 10, 9, 9, 2, 10, 15, 0, 2, 15, 10, 4, 0, 2, 3, 24, 4, 3, 24, 28, 10]\n",
        "  distancia_referencia = Get_Coste(Get_Actores_Dia(Solucion_Referencia, Actores_Toma))\n",
        "\n",
        "  mejor_solucion = []             #x* del seudocodigo\n",
        "  mejor_distancia = 10e100        #F* del seudocodigo\n",
        "\n",
        "  print(\"Solución inicial  es:\" , Solucion_Referencia)\n",
        "  print(\"Distancia     :\" , distancia_referencia)\n",
        "\n",
        "  iteracion = 0            #Un contador para saber las iteraciones que hacemos\n",
        "  while TEMPERATURA > .0000001:\n",
        "    iteracion +=1         #Incrementamos el contador\n",
        "\n",
        "     #Obtenemos la mejor vecina ...\n",
        "    vecina = genera_vecina_aleatorio(Solucion_Referencia)\n",
        "\n",
        "    #... y la evaluamos para ver si mejoramos respecto a lo encontrado hasta el momento\n",
        "    distancia_vecina = Get_Coste(Get_Actores_Dia(vecina, Actores_Toma))\n",
        "\n",
        "    #Si es la mejor solución de todas se guarda(siempre!!!)\n",
        "    if distancia_vecina < mejor_distancia:\n",
        "      mejor_solucion = vecina\n",
        "      mejor_distancia = distancia_vecina\n",
        "      print(\"En la iteracion \", iteracion, \", la solución encontrada es:\" , vecina)\n",
        "      print(\"Distancia     :\" , distancia_vecina)\n",
        "\n",
        "    #Si la nueva vecina es mejor se cambia\n",
        "    #Si es peor se cambia según una probabilidad que depende de T y delta(distancia_referencia - distancia_vecina)\n",
        "    if distancia_vecina < distancia_referencia or probabilidad(TEMPERATURA, abs(distancia_referencia - distancia_vecina) ) :\n",
        "      #solucion_referencia = copy.deepcopy(vecina)\n",
        "      solucion_referencia = vecina\n",
        "      distancia_referencia = distancia_vecina\n",
        "\n",
        "     #Bajamos la temperatura\n",
        "    TEMPERATURA = bajar_temperatura(TEMPERATURA)\n",
        "  return mejor_solucion\n",
        "\n",
        "sol = recocido_simulado(Actores_por_Toma, 10000000)\n",
        "print(sol)"
      ],
      "metadata": {
        "colab": {
          "base_uri": "https://localhost:8080/"
        },
        "id": "w2GQBvE29Y-J",
        "outputId": "f66694df-3752-4d2c-8e60-1db1a6f889e0"
      },
      "execution_count": null,
      "outputs": [
        {
          "output_type": "stream",
          "name": "stdout",
          "text": [
            "Solución inicial  es: [0, 1, 1, 1, 0, 5, 0, 5, 1, 0, 1, 5, 12, 12, 1, 0, 16, 12, 5, 12, 16, 16, 0, 23, 16, 5, 23, 12, 16, 23]\n",
            "Distancia     : 41\n",
            "En la iteracion  1 , la solución encontrada es: [0, 1, 1, 1, 0, 5, 0, 5, 1, 0, 10, 5, 10, 10, 1, 0, 16, 10, 5, 10, 16, 16, 0, 23, 16, 5, 23, 10, 16, 23]\n",
            "Distancia     : 43\n",
            "En la iteracion  2 , la solución encontrada es: [0, 1, 1, 1, 0, 5, 0, 5, 1, 0, 1, 5, 12, 12, 1, 0, 16, 16, 5, 12, 16, 16, 0, 23, 16, 5, 23, 12, 16, 23]\n",
            "Distancia     : 41\n",
            "En la iteracion  6 , la solución encontrada es: [0, 1, 1, 1, 4, 5, 0, 5, 1, 0, 1, 5, 12, 12, 1, 0, 4, 12, 5, 12, 4, 4, 0, 23, 4, 5, 23, 12, 4, 23]\n",
            "Distancia     : 40\n",
            "En la iteracion  139 , la solución encontrada es: [0, 1, 1, 1, 0, 5, 0, 5, 1, 0, 1, 5, 12, 12, 1, 0, 16, 12, 5, 12, 16, 16, 0, 12, 16, 5, 26, 12, 16, 26]\n",
            "Distancia     : 39\n",
            "[0, 1, 1, 1, 0, 5, 0, 5, 1, 0, 1, 5, 12, 12, 1, 0, 16, 12, 5, 12, 16, 16, 0, 12, 16, 5, 26, 12, 16, 26]\n"
          ]
        }
      ]
    },
    {
      "cell_type": "markdown",
      "source": [
        "# Algorítmo genético"
      ],
      "metadata": {
        "id": "L6rIkEWbLDTH"
      }
    },
    {
      "cell_type": "code",
      "source": [
        "def generar_poblacion(Actores_Toma, N_Soluciones):\n",
        "  poblacion_tmp = []\n",
        "  N_Tomas = len(Actores_Toma)\n",
        "  for i in range(N_Soluciones):\n",
        "    solucion = Crear_Solucion(N_Tomas)\n",
        "    distancia = Get_Coste(Get_Actores_Dia(solucion, Actores_Toma))\n",
        "    poblacion_tmp.append({'S':solucion, 'D':distancia})\n",
        "  return poblacion_tmp\n",
        "\n",
        "poblacion = generar_poblacion(Actores_por_Toma, 5)\n",
        "print(poblacion)\n",
        "poblacion.sort(key=lambda x:x['D'])\n",
        "print(poblacion)"
      ],
      "metadata": {
        "colab": {
          "base_uri": "https://localhost:8080/"
        },
        "id": "BV7FgPxWLKS7",
        "outputId": "6547abc7-d2b6-450d-863e-8e2b09801d82"
      },
      "execution_count": null,
      "outputs": [
        {
          "output_type": "stream",
          "name": "stdout",
          "text": [
            "[{'S': [0, 1, 2, 1, 2, 0, 6, 6, 6, 1, 0, 2, 12, 6, 0, 0, 6, 6, 1, 2, 2, 12, 12, 12, 0, 25, 2, 12, 1, 12], 'D': 41}, {'S': [0, 0, 2, 3, 2, 5, 6, 5, 0, 3, 0, 2, 3, 13, 6, 2, 6, 3, 2, 5, 2, 13, 0, 6, 13, 13, 13, 27, 6, 0], 'D': 47}, {'S': [0, 0, 2, 3, 3, 2, 0, 0, 0, 0, 10, 3, 12, 2, 12, 10, 12, 2, 3, 12, 12, 3, 3, 2, 2, 25, 12, 10, 28, 25], 'D': 45}, {'S': [0, 1, 1, 0, 0, 5, 0, 5, 8, 1, 1, 1, 12, 1, 8, 12, 5, 8, 8, 0, 8, 0, 22, 22, 22, 12, 12, 12, 8, 5], 'D': 42}, {'S': [0, 0, 0, 3, 0, 0, 3, 0, 3, 3, 3, 3, 12, 12, 14, 12, 16, 16, 18, 14, 16, 16, 14, 16, 16, 12, 26, 14, 28, 26], 'D': 45}]\n",
            "[{'S': [0, 1, 2, 1, 2, 0, 6, 6, 6, 1, 0, 2, 12, 6, 0, 0, 6, 6, 1, 2, 2, 12, 12, 12, 0, 25, 2, 12, 1, 12], 'D': 41}, {'S': [0, 1, 1, 0, 0, 5, 0, 5, 8, 1, 1, 1, 12, 1, 8, 12, 5, 8, 8, 0, 8, 0, 22, 22, 22, 12, 12, 12, 8, 5], 'D': 42}, {'S': [0, 0, 2, 3, 3, 2, 0, 0, 0, 0, 10, 3, 12, 2, 12, 10, 12, 2, 3, 12, 12, 3, 3, 2, 2, 25, 12, 10, 28, 25], 'D': 45}, {'S': [0, 0, 0, 3, 0, 0, 3, 0, 3, 3, 3, 3, 12, 12, 14, 12, 16, 16, 18, 14, 16, 16, 14, 16, 16, 12, 26, 14, 28, 26], 'D': 45}, {'S': [0, 0, 2, 3, 2, 5, 6, 5, 0, 3, 0, 2, 3, 13, 6, 2, 6, 3, 2, 5, 2, 13, 0, 6, 13, 13, 13, 27, 6, 0], 'D': 47}]\n"
          ]
        }
      ]
    },
    {
      "cell_type": "code",
      "source": [
        "#Evalua la población y devuelve el mejor individuo\n",
        "def Evaluar_Poblacion(poblacion):\n",
        "  mejor_solucion = []\n",
        "  mejor_distancia = 999e999\n",
        "  for solucion in poblacion:\n",
        "    distancia = solucion['D'] #Get_Coste(Get_Actores_Dia(solucion, Actores_Toma))\n",
        "    if distancia < mejor_distancia:\n",
        "      mejor_distancia = distancia\n",
        "      mejor_solucion = solucion['S']\n",
        "  return mejor_solucion, mejor_distancia\n",
        "\n",
        "print(Evaluar_Poblacion(poblacion))"
      ],
      "metadata": {
        "colab": {
          "base_uri": "https://localhost:8080/"
        },
        "id": "Pbqa3AEdM_53",
        "outputId": "fdba72b3-02d3-4a39-80fb-86c934ec9294"
      },
      "execution_count": null,
      "outputs": [
        {
          "output_type": "stream",
          "name": "stdout",
          "text": [
            "([0, 1, 2, 1, 2, 0, 6, 6, 6, 1, 0, 2, 12, 6, 0, 0, 6, 6, 1, 2, 2, 12, 12, 12, 0, 25, 2, 12, 1, 12], 41)\n"
          ]
        }
      ]
    },
    {
      "cell_type": "code",
      "source": [
        "#Funcion para generar hijos a partir de 2 padres:\n",
        "# Se elige el metodo de 1-punto de corte pero es posible usar otros n-puntos, uniforme, dependiendo del problema\n",
        "def Descendencia(padre1, padre2, mutacion):\n",
        "  longitud = len(padre1)\n",
        "  punto_corte = 5 #random.randint(0, longitud - 1)\n",
        "\n",
        "  hijo1 = [-1] * longitud\n",
        "  hijo1[:punto_corte] = padre1[:punto_corte]\n",
        "  for i in range(punto_corte, longitud):\n",
        "    if padre2[i] < punto_corte:\n",
        "      hijo1[i] = padre1[padre2[i]]\n",
        "    else:\n",
        "      hijo1[i] = padre2[i]\n",
        "\n",
        "  # Vemos si hacemos mutación\n",
        "  if (mutacion < random.random()):\n",
        "    genera_vecina_aleatorio(hijo1)\n",
        "\n",
        "  return hijo1\n",
        "\n",
        "sol1 = Crear_Solucion(30)\n",
        "sol2 = Crear_Solucion(30)\n",
        "\n",
        "hijo = Descendencia(sol1, sol2, 0.1)\n",
        "print(\"Padre 1: \", sol1)\n",
        "print(\"Padre 2: \", sol2)\n",
        "print(\"Hijo   : \", hijo)"
      ],
      "metadata": {
        "colab": {
          "base_uri": "https://localhost:8080/"
        },
        "id": "HGjQReFZQoqR",
        "outputId": "beb02400-1e45-4cd6-bdeb-5879863c5df9"
      },
      "execution_count": null,
      "outputs": [
        {
          "output_type": "stream",
          "name": "stdout",
          "text": [
            "Padre 1:  [0, 1, 0, 1, 4, 1, 4, 0, 8, 0, 1, 4, 1, 4, 1, 0, 4, 4, 18, 18, 8, 0, 8, 18, 8, 25, 26, 18, 8, 26]\n",
            "Padre 2:  [0, 1, 1, 0, 4, 4, 6, 0, 4, 1, 1, 11, 0, 1, 6, 11, 6, 4, 18, 1, 6, 4, 22, 18, 4, 0, 22, 6, 11, 11]\n",
            "Hijo   :  [0, 1, 0, 1, 4, 4, 6, 0, 4, 1, 1, 11, 0, 1, 6, 11, 6, 4, 18, 1, 6, 4, 22, 18, 4, 0, 22, 6, 11, 11]\n"
          ]
        }
      ]
    },
    {
      "cell_type": "code",
      "source": [
        "#Para el operador de cruce 1-punto los hijos generados no son soluciones(algunos nodos se repiten y otros no están)\n",
        "def Factibilizar(solucion):\n",
        "  for i in range(len(solucion)-6, -1, -1):\n",
        "    dia = solucion[i]\n",
        "    N = solucion[i:].count(dia)\n",
        "    if N == 6:\n",
        "      solucion[i:] = [x if x != dia else i for x in solucion[i:]]\n",
        "\n",
        "  # dias = tuple(set(solucion))\n",
        "  # for d in dias:\n",
        "  #   N = solucion.count(d)\n",
        "  #   if N > 6:\n",
        "  #     return False\n",
        "  # return True\n",
        "\n",
        "sol = [0] * 10\n",
        "print(sol)\n",
        "Factibilizar(sol)\n",
        "print(sol)"
      ],
      "metadata": {
        "id": "y3zO6enNXe4R",
        "colab": {
          "base_uri": "https://localhost:8080/"
        },
        "outputId": "91c9f2c3-f3c1-4c10-dc07-7fad8fc8a9d6"
      },
      "execution_count": null,
      "outputs": [
        {
          "output_type": "stream",
          "name": "stdout",
          "text": [
            "[0, 0, 0, 0, 0, 0, 0, 0, 0, 0]\n",
            "[0, 0, 0, 0, 4, 4, 4, 4, 4, 4]\n"
          ]
        }
      ]
    },
    {
      "cell_type": "code",
      "source": [
        "#Funcion de cruce. Recibe una poblacion(lista de soluciones) y devuelve la población ampliada con los hijos.\n",
        "# Todos los individuos de la población son selecionados para el cruce(si la población es par)\n",
        "# Podría aplicarse un proceso previo de selección para elegir los individuos que se desea cruzar.\n",
        "def Cruzar(poblacion, mutacion, Actores_Toma):\n",
        "  N = len(poblacion)\n",
        "  lista = random.sample(range(N), N)\n",
        "  for i in range(N//2):\n",
        "    sol1 = poblacion[lista[i*2]]['S']\n",
        "    sol2 = poblacion[lista[i*2+1]]['S']\n",
        "    hijo = Descendencia(sol1, sol2, mutacion)\n",
        "    #print(hijo)\n",
        "    Factibilizar(hijo)\n",
        "\n",
        "    # if Factibilizar(hijo):\n",
        "    distancia = Get_Coste(Get_Actores_Dia(hijo, Actores_Toma))\n",
        "    poblacion.append({'S':hijo, 'D':distancia})\n",
        "\n",
        "    # hijo = Descendencia(sol2, sol1, mutacion)\n",
        "    # #print(hijo)\n",
        "    # Factibilizar(hijo)\n",
        "\n",
        "    # # if Factibilizar(hijo):\n",
        "    # distancia = Get_Coste(Get_Actores_Dia(hijo, Actores_Toma))\n",
        "    # poblacion.append({'S':hijo, 'D':distancia})\n",
        "\n",
        "poblacion = generar_poblacion(Actores_por_Toma, 500)\n",
        "print(len(poblacion))\n",
        "Cruzar(poblacion, 0.0, Actores_por_Toma)\n",
        "print(len(poblacion))"
      ],
      "metadata": {
        "colab": {
          "base_uri": "https://localhost:8080/"
        },
        "id": "Km5NcEQkOcpK",
        "outputId": "21640bb2-4cac-45af-b3a4-ae403d8fdfa1"
      },
      "execution_count": null,
      "outputs": [
        {
          "output_type": "stream",
          "name": "stdout",
          "text": [
            "500\n",
            "750\n"
          ]
        }
      ]
    },
    {
      "cell_type": "code",
      "source": [
        "#Funcion de seleccion de la población. Recibe como parametro una poblacion y\n",
        "# devuelve una poblacion a la que se ha eliminado individuos poco aptos(fitness alto) y para mantener una poblacion estable de N individuos\n",
        "#Se tiene en cuenta el porcentaje elitismo pasado como parametro\n",
        "# Para los individuos que no son de la elite podríamos usar una selección de ruleta(proporcional a su fitness)\n",
        "def Seleccionar(poblacion, N, elitismo):\n",
        "  # Ordenamos la población\n",
        "  poblacion.sort(key=lambda x:x['D'])\n",
        "\n",
        "  N_Elite = int(N*elitismo)\n",
        "\n",
        "  while(len(poblacion)>N):\n",
        "    i = max (random.randrange(len(poblacion)), random.randrange(len(poblacion)))\n",
        "    if i > N_Elite:\n",
        "      del poblacion[i]\n",
        "\n",
        "\n",
        "poblacion = generar_poblacion(Actores_por_Toma, 8)\n",
        "print(len(poblacion))\n",
        "Seleccionar(poblacion, 5, 0.2)\n",
        "print(poblacion)"
      ],
      "metadata": {
        "colab": {
          "base_uri": "https://localhost:8080/"
        },
        "id": "kGQ7A4BodToW",
        "outputId": "e50b0f3a-df69-4f46-dbf6-e4cfdf327943"
      },
      "execution_count": null,
      "outputs": [
        {
          "output_type": "stream",
          "name": "stdout",
          "text": [
            "8\n",
            "[{'S': [0, 1, 1, 0, 0, 1, 6, 0, 1, 1, 1, 6, 0, 6, 6, 6, 0, 17, 18, 17, 6, 18, 18, 18, 18, 17, 18, 17, 17, 17], 'D': 39}, {'S': [0, 1, 1, 3, 0, 3, 6, 1, 3, 0, 6, 3, 12, 0, 1, 3, 12, 17, 12, 3, 0, 0, 17, 17, 6, 25, 1, 1, 6, 12], 'D': 43}, {'S': [0, 1, 0, 3, 0, 5, 6, 1, 1, 5, 5, 6, 6, 1, 3, 5, 5, 17, 1, 19, 0, 6, 1, 3, 6, 0, 6, 3, 17, 3], 'D': 46}, {'S': [0, 0, 2, 3, 0, 0, 3, 3, 8, 2, 2, 2, 12, 13, 2, 0, 13, 2, 3, 8, 0, 3, 3, 23, 13, 23, 23, 13, 13, 23], 'D': 46}, {'S': [0, 1, 2, 2, 0, 5, 6, 6, 0, 0, 10, 0, 2, 6, 0, 2, 1, 1, 2, 6, 20, 1, 1, 5, 24, 20, 24, 1, 5, 24], 'D': 51}]\n"
          ]
        }
      ]
    },
    {
      "cell_type": "markdown",
      "source": [
        "Proceso principal"
      ],
      "metadata": {
        "id": "w0JDuKJ1uYGP"
      }
    },
    {
      "cell_type": "code",
      "source": [
        "#Funcion principal del algoritmo genetico\n",
        "#######################################################3\n",
        "def algoritmo_genetico(Actores_Toma, N=100, mutacion=.15, elitismo=.1, generaciones=100):\n",
        "  # problem = datos del problema\n",
        "  # N = Tamaño de la población\n",
        "  # mutacion = probabilidad de una mutación\n",
        "  # elitismo = porcion de la mejor poblacion a mantener\n",
        "  # generaciones = nº de generaciones a generar para finalizar\n",
        "\n",
        "  #Genera la poblacion inicial\n",
        "  #Nodos = list(problem.get_nodes())\n",
        "  poblacion = []\n",
        "  poblacion = generar_poblacion(Actores_Toma, N)\n",
        "\n",
        "  #Inicializamos valores para la mejor solucion\n",
        "  (mejor_solucion, mejor_distancia) = Evaluar_Poblacion(poblacion)\n",
        "\n",
        "\n",
        "  #Condicion de parada\n",
        "  parar = False\n",
        "  n=0\n",
        "  #Inciamos el cliclo de generaciones\n",
        "  while(parar == False) :\n",
        "\n",
        "    #Cruce de la poblacion(incluye mutación)\n",
        "    #poblacion =\n",
        "    Cruzar(poblacion, mutacion, Actores_Toma)\n",
        "\n",
        "    #print(\"Tamaño de población : \", len(poblacion))\n",
        "\n",
        "    #Seleccionamos la población\n",
        "    #poblacion =\n",
        "    Seleccionar(poblacion, N, elitismo)\n",
        "\n",
        "    #Evaluamos la nueva población\n",
        "    (mejor_solucion, mejor_distancia) = Evaluar_Poblacion(poblacion)\n",
        "\n",
        "    print(\"Generacion #\", n, \" - La mejor solución es:\" , mejor_solucion, \" con distancia \" , mejor_distancia)\n",
        "\n",
        "    #Numero de generaciones. Criterio de parada\n",
        "    if n==generaciones:\n",
        "      parar = True\n",
        "    n +=1\n",
        "\n",
        "  return mejor_solucion\n",
        "\n",
        "\n",
        "sol = algoritmo_genetico(Actores_Toma=Actores_por_Toma, N=200, mutacion=.5, elitismo=.10, generaciones=200)"
      ],
      "metadata": {
        "colab": {
          "base_uri": "https://localhost:8080/"
        },
        "id": "-eTTGY7Gpck1",
        "outputId": "2fc3e041-8fb2-4dd7-ed57-d86aed5f2f2d"
      },
      "execution_count": null,
      "outputs": [
        {
          "output_type": "stream",
          "name": "stdout",
          "text": [
            "Generacion # 0  - La mejor solución es: [0, 0, 0, 3, 4, 0, 6, 0, 0, 3, 3, 3, 6, 4, 4, 6, 6, 4, 3, 19, 4, 4, 19, 19, 6, 3, 26, 19, 19, 29]  con distancia  38\n",
            "Generacion # 1  - La mejor solución es: [0, 0, 0, 3, 4, 0, 6, 0, 0, 3, 3, 3, 6, 4, 4, 6, 6, 4, 3, 19, 4, 4, 19, 19, 6, 3, 26, 19, 19, 29]  con distancia  38\n",
            "Generacion # 2  - La mejor solución es: [0, 0, 0, 3, 4, 0, 6, 0, 0, 3, 3, 3, 6, 4, 4, 6, 6, 4, 3, 19, 4, 4, 19, 19, 6, 3, 26, 19, 19, 29]  con distancia  38\n",
            "Generacion # 3  - La mejor solución es: [0, 0, 0, 3, 4, 0, 6, 0, 0, 3, 3, 3, 6, 4, 4, 6, 6, 4, 3, 19, 4, 4, 19, 19, 6, 3, 26, 19, 19, 29]  con distancia  38\n",
            "Generacion # 4  - La mejor solución es: [0, 0, 0, 0, 0, 0, 6, 6, 6, 6, 6, 6, 12, 12, 14, 12, 14, 12, 14, 19, 12, 14, 12, 19, 19, 19, 26, 14, 19, 19]  con distancia  37\n",
            "Generacion # 5  - La mejor solución es: [0, 0, 0, 0, 0, 0, 6, 6, 6, 6, 6, 6, 12, 12, 14, 12, 14, 12, 14, 19, 12, 14, 12, 19, 19, 19, 26, 14, 19, 19]  con distancia  37\n",
            "Generacion # 6  - La mejor solución es: [0, 0, 0, 0, 0, 0, 6, 6, 6, 6, 6, 6, 12, 12, 14, 12, 14, 12, 14, 19, 12, 14, 12, 19, 19, 19, 26, 14, 19, 19]  con distancia  37\n",
            "Generacion # 7  - La mejor solución es: [0, 0, 0, 0, 0, 0, 6, 6, 6, 6, 6, 6, 12, 12, 14, 12, 14, 12, 14, 19, 12, 14, 12, 19, 19, 19, 26, 14, 19, 19]  con distancia  37\n",
            "Generacion # 8  - La mejor solución es: [0, 0, 0, 0, 0, 0, 6, 6, 6, 6, 6, 6, 12, 12, 14, 12, 14, 12, 14, 19, 12, 14, 12, 19, 19, 19, 26, 14, 19, 19]  con distancia  37\n",
            "Generacion # 9  - La mejor solución es: [0, 0, 0, 0, 0, 0, 6, 6, 6, 6, 6, 6, 12, 12, 14, 12, 14, 12, 14, 19, 12, 14, 12, 19, 19, 19, 26, 14, 19, 19]  con distancia  37\n",
            "Generacion # 10  - La mejor solución es: [0, 0, 0, 0, 0, 0, 6, 6, 6, 6, 6, 6, 12, 12, 14, 12, 14, 12, 14, 19, 12, 14, 12, 19, 19, 19, 26, 14, 19, 19]  con distancia  37\n",
            "Generacion # 11  - La mejor solución es: [0, 0, 0, 0, 0, 0, 6, 6, 6, 6, 6, 6, 12, 12, 14, 12, 14, 12, 14, 19, 12, 14, 12, 19, 19, 19, 26, 14, 19, 19]  con distancia  37\n",
            "Generacion # 12  - La mejor solución es: [0, 0, 0, 0, 0, 0, 6, 6, 6, 6, 6, 6, 12, 12, 14, 12, 14, 12, 14, 19, 12, 14, 12, 19, 19, 19, 26, 14, 19, 19]  con distancia  37\n",
            "Generacion # 13  - La mejor solución es: [0, 0, 0, 0, 0, 0, 6, 6, 6, 6, 6, 6, 12, 12, 14, 12, 14, 12, 14, 19, 12, 14, 12, 19, 19, 19, 26, 14, 19, 19]  con distancia  37\n",
            "Generacion # 14  - La mejor solución es: [0, 0, 0, 0, 0, 0, 6, 6, 6, 6, 6, 6, 12, 12, 14, 12, 14, 12, 14, 19, 12, 14, 12, 19, 19, 19, 26, 14, 19, 19]  con distancia  37\n",
            "Generacion # 15  - La mejor solución es: [0, 0, 0, 0, 0, 0, 6, 6, 6, 6, 6, 6, 12, 12, 14, 12, 14, 12, 14, 19, 12, 14, 12, 19, 19, 19, 26, 14, 19, 19]  con distancia  37\n",
            "Generacion # 16  - La mejor solución es: [0, 0, 0, 0, 0, 0, 6, 6, 6, 6, 6, 6, 12, 12, 14, 12, 14, 12, 14, 19, 12, 14, 12, 19, 19, 19, 26, 14, 19, 19]  con distancia  37\n",
            "Generacion # 17  - La mejor solución es: [0, 0, 0, 0, 0, 0, 6, 6, 6, 6, 6, 6, 12, 12, 14, 12, 14, 12, 14, 19, 12, 14, 12, 19, 19, 19, 26, 14, 19, 19]  con distancia  37\n",
            "Generacion # 18  - La mejor solución es: [0, 0, 0, 0, 0, 0, 6, 6, 6, 6, 6, 6, 12, 12, 14, 12, 14, 12, 14, 19, 12, 14, 12, 19, 19, 19, 26, 14, 19, 19]  con distancia  37\n",
            "Generacion # 19  - La mejor solución es: [0, 0, 0, 0, 0, 0, 6, 6, 6, 6, 6, 6, 12, 12, 14, 12, 14, 12, 14, 19, 12, 14, 12, 19, 19, 19, 26, 14, 19, 19]  con distancia  37\n",
            "Generacion # 20  - La mejor solución es: [0, 0, 0, 0, 0, 0, 6, 6, 6, 6, 6, 6, 12, 12, 14, 12, 14, 12, 14, 19, 12, 14, 12, 19, 19, 19, 26, 14, 19, 19]  con distancia  37\n",
            "Generacion # 21  - La mejor solución es: [0, 0, 0, 0, 0, 0, 6, 6, 6, 6, 6, 6, 12, 12, 14, 12, 14, 12, 14, 19, 12, 14, 12, 19, 19, 19, 26, 14, 19, 19]  con distancia  37\n",
            "Generacion # 22  - La mejor solución es: [0, 0, 0, 0, 0, 0, 6, 6, 6, 6, 6, 6, 12, 12, 14, 12, 14, 12, 14, 19, 12, 14, 12, 19, 19, 19, 26, 14, 19, 19]  con distancia  37\n",
            "Generacion # 23  - La mejor solución es: [0, 0, 0, 0, 0, 0, 6, 6, 6, 6, 6, 6, 12, 12, 14, 12, 14, 12, 14, 19, 12, 14, 12, 19, 19, 19, 26, 14, 19, 19]  con distancia  37\n",
            "Generacion # 24  - La mejor solución es: [0, 0, 0, 0, 0, 0, 6, 6, 6, 6, 6, 6, 12, 12, 14, 12, 14, 12, 14, 19, 12, 14, 12, 19, 19, 19, 26, 14, 19, 19]  con distancia  37\n",
            "Generacion # 25  - La mejor solución es: [0, 0, 0, 0, 0, 0, 6, 6, 6, 6, 6, 6, 12, 12, 14, 12, 14, 12, 14, 19, 12, 14, 12, 19, 19, 19, 26, 14, 19, 19]  con distancia  37\n",
            "Generacion # 26  - La mejor solución es: [0, 0, 0, 0, 0, 0, 6, 6, 6, 6, 6, 6, 12, 12, 14, 12, 14, 12, 14, 19, 12, 14, 12, 19, 19, 19, 26, 14, 19, 19]  con distancia  37\n",
            "Generacion # 27  - La mejor solución es: [0, 0, 0, 0, 0, 0, 6, 6, 6, 6, 6, 6, 12, 12, 14, 12, 14, 12, 14, 19, 12, 14, 12, 19, 19, 19, 26, 14, 19, 19]  con distancia  37\n",
            "Generacion # 28  - La mejor solución es: [0, 0, 0, 0, 0, 0, 6, 6, 6, 6, 6, 6, 12, 12, 14, 12, 14, 12, 14, 19, 12, 14, 12, 19, 19, 19, 26, 14, 19, 19]  con distancia  37\n",
            "Generacion # 29  - La mejor solución es: [0, 0, 0, 0, 0, 0, 6, 6, 6, 6, 6, 6, 12, 12, 14, 12, 14, 12, 14, 19, 12, 14, 12, 19, 19, 19, 26, 14, 19, 19]  con distancia  37\n",
            "Generacion # 30  - La mejor solución es: [0, 0, 0, 0, 0, 0, 6, 6, 6, 6, 6, 6, 12, 12, 14, 12, 14, 12, 14, 19, 12, 14, 12, 19, 19, 19, 26, 14, 19, 19]  con distancia  37\n",
            "Generacion # 31  - La mejor solución es: [0, 0, 0, 0, 0, 0, 6, 6, 6, 6, 6, 6, 12, 12, 14, 12, 14, 12, 14, 19, 12, 14, 12, 19, 19, 19, 26, 14, 19, 19]  con distancia  37\n",
            "Generacion # 32  - La mejor solución es: [0, 0, 0, 0, 0, 0, 6, 6, 6, 6, 6, 6, 12, 12, 14, 12, 14, 12, 14, 19, 12, 14, 12, 19, 19, 19, 26, 14, 19, 19]  con distancia  37\n",
            "Generacion # 33  - La mejor solución es: [0, 0, 0, 0, 0, 0, 6, 6, 6, 6, 6, 6, 12, 12, 14, 12, 14, 12, 14, 19, 12, 14, 12, 19, 19, 19, 26, 14, 19, 19]  con distancia  37\n",
            "Generacion # 34  - La mejor solución es: [0, 0, 0, 0, 0, 0, 6, 6, 6, 6, 6, 6, 12, 12, 14, 12, 14, 12, 14, 19, 12, 14, 12, 19, 19, 19, 26, 14, 19, 19]  con distancia  37\n",
            "Generacion # 35  - La mejor solución es: [0, 0, 0, 0, 0, 0, 6, 6, 6, 6, 6, 6, 12, 12, 14, 12, 14, 12, 14, 19, 12, 14, 12, 19, 19, 19, 26, 14, 19, 19]  con distancia  37\n",
            "Generacion # 36  - La mejor solución es: [0, 0, 0, 0, 0, 0, 6, 6, 6, 6, 6, 6, 12, 12, 14, 12, 14, 12, 14, 19, 12, 14, 12, 19, 19, 19, 26, 14, 19, 19]  con distancia  37\n",
            "Generacion # 37  - La mejor solución es: [0, 0, 0, 0, 0, 0, 6, 6, 6, 6, 6, 6, 12, 12, 14, 12, 14, 12, 14, 19, 12, 14, 12, 19, 19, 19, 26, 14, 19, 19]  con distancia  37\n",
            "Generacion # 38  - La mejor solución es: [0, 0, 0, 0, 0, 0, 6, 6, 6, 6, 6, 6, 12, 12, 14, 12, 14, 12, 14, 19, 12, 14, 12, 19, 19, 19, 26, 14, 19, 19]  con distancia  37\n",
            "Generacion # 39  - La mejor solución es: [0, 0, 0, 0, 0, 0, 6, 6, 6, 6, 6, 6, 12, 12, 14, 12, 14, 12, 14, 19, 12, 14, 12, 19, 19, 19, 26, 14, 19, 19]  con distancia  37\n",
            "Generacion # 40  - La mejor solución es: [0, 0, 0, 0, 0, 0, 6, 6, 6, 6, 6, 6, 12, 12, 14, 12, 14, 12, 14, 19, 12, 14, 12, 19, 19, 19, 26, 14, 19, 19]  con distancia  37\n",
            "Generacion # 41  - La mejor solución es: [0, 0, 0, 0, 0, 0, 6, 6, 6, 6, 6, 6, 12, 12, 14, 12, 14, 12, 14, 19, 12, 14, 12, 19, 19, 19, 26, 14, 19, 19]  con distancia  37\n",
            "Generacion # 42  - La mejor solución es: [0, 0, 0, 0, 0, 0, 6, 6, 6, 6, 6, 6, 12, 12, 14, 12, 14, 12, 14, 19, 12, 14, 12, 19, 19, 19, 26, 14, 19, 19]  con distancia  37\n",
            "Generacion # 43  - La mejor solución es: [0, 0, 0, 0, 0, 0, 6, 6, 6, 6, 6, 6, 12, 12, 14, 12, 14, 12, 14, 19, 12, 14, 12, 19, 19, 19, 26, 14, 19, 19]  con distancia  37\n",
            "Generacion # 44  - La mejor solución es: [0, 0, 0, 0, 0, 0, 6, 6, 6, 6, 6, 6, 12, 12, 14, 12, 14, 12, 14, 19, 12, 14, 12, 19, 19, 19, 26, 14, 19, 19]  con distancia  37\n",
            "Generacion # 45  - La mejor solución es: [0, 0, 0, 0, 0, 0, 6, 6, 6, 6, 6, 6, 12, 12, 14, 12, 14, 12, 14, 19, 12, 14, 12, 19, 19, 19, 26, 14, 19, 19]  con distancia  37\n",
            "Generacion # 46  - La mejor solución es: [0, 0, 0, 0, 0, 0, 6, 6, 6, 6, 6, 6, 12, 12, 14, 12, 14, 12, 14, 19, 12, 14, 12, 19, 19, 19, 26, 14, 19, 19]  con distancia  37\n",
            "Generacion # 47  - La mejor solución es: [0, 0, 0, 0, 0, 0, 6, 6, 6, 6, 6, 6, 12, 12, 14, 12, 14, 12, 14, 19, 12, 14, 12, 19, 19, 19, 26, 14, 19, 19]  con distancia  37\n",
            "Generacion # 48  - La mejor solución es: [0, 0, 0, 0, 0, 0, 6, 6, 6, 6, 6, 6, 12, 12, 14, 12, 14, 12, 14, 19, 12, 14, 12, 19, 19, 19, 26, 14, 19, 19]  con distancia  37\n",
            "Generacion # 49  - La mejor solución es: [0, 0, 0, 0, 0, 0, 6, 6, 6, 6, 6, 6, 12, 12, 14, 12, 14, 12, 14, 19, 12, 14, 12, 19, 19, 19, 26, 14, 19, 19]  con distancia  37\n",
            "Generacion # 50  - La mejor solución es: [0, 0, 0, 0, 0, 0, 6, 6, 6, 6, 6, 6, 12, 12, 14, 12, 14, 12, 14, 19, 12, 14, 12, 19, 19, 19, 26, 14, 19, 19]  con distancia  37\n",
            "Generacion # 51  - La mejor solución es: [0, 0, 0, 0, 0, 0, 6, 6, 6, 6, 6, 6, 12, 12, 14, 12, 14, 12, 14, 19, 12, 14, 12, 19, 19, 19, 26, 14, 19, 19]  con distancia  37\n",
            "Generacion # 52  - La mejor solución es: [0, 0, 0, 0, 0, 0, 6, 6, 6, 6, 6, 6, 12, 12, 14, 12, 14, 12, 14, 19, 12, 14, 12, 19, 19, 19, 26, 14, 19, 19]  con distancia  37\n",
            "Generacion # 53  - La mejor solución es: [0, 0, 0, 0, 0, 0, 6, 6, 6, 6, 6, 6, 12, 12, 14, 12, 14, 12, 14, 19, 12, 14, 12, 19, 19, 19, 26, 14, 19, 19]  con distancia  37\n",
            "Generacion # 54  - La mejor solución es: [0, 0, 0, 0, 0, 0, 6, 6, 6, 6, 6, 6, 12, 12, 14, 12, 14, 12, 14, 19, 12, 14, 12, 19, 19, 19, 26, 14, 19, 19]  con distancia  37\n",
            "Generacion # 55  - La mejor solución es: [0, 0, 0, 0, 0, 0, 6, 6, 6, 6, 6, 6, 12, 12, 14, 12, 14, 12, 14, 19, 12, 14, 12, 19, 19, 19, 26, 14, 19, 19]  con distancia  37\n",
            "Generacion # 56  - La mejor solución es: [0, 0, 0, 0, 0, 0, 6, 6, 6, 6, 6, 6, 12, 12, 14, 12, 14, 12, 14, 19, 12, 14, 12, 19, 19, 19, 26, 14, 19, 19]  con distancia  37\n",
            "Generacion # 57  - La mejor solución es: [0, 0, 0, 0, 0, 0, 6, 6, 6, 6, 6, 6, 12, 12, 14, 12, 14, 12, 14, 19, 12, 14, 12, 19, 19, 19, 26, 14, 19, 19]  con distancia  37\n",
            "Generacion # 58  - La mejor solución es: [0, 0, 0, 0, 0, 0, 6, 6, 6, 6, 6, 6, 12, 12, 14, 12, 14, 12, 14, 19, 12, 14, 12, 19, 19, 19, 26, 14, 19, 19]  con distancia  37\n",
            "Generacion # 59  - La mejor solución es: [0, 0, 0, 0, 0, 0, 6, 6, 6, 6, 6, 6, 12, 12, 14, 12, 14, 12, 14, 19, 12, 14, 12, 19, 19, 19, 26, 14, 19, 19]  con distancia  37\n",
            "Generacion # 60  - La mejor solución es: [0, 0, 0, 0, 0, 0, 6, 6, 6, 6, 6, 6, 12, 12, 14, 12, 14, 12, 14, 19, 12, 14, 12, 19, 19, 19, 26, 14, 19, 19]  con distancia  37\n",
            "Generacion # 61  - La mejor solución es: [0, 0, 0, 0, 0, 0, 6, 6, 6, 6, 6, 6, 12, 12, 14, 12, 14, 12, 14, 19, 12, 14, 12, 19, 19, 19, 26, 14, 19, 19]  con distancia  37\n",
            "Generacion # 62  - La mejor solución es: [0, 0, 0, 0, 0, 0, 6, 6, 6, 6, 6, 6, 12, 12, 14, 12, 14, 12, 14, 19, 12, 14, 12, 19, 19, 19, 26, 14, 19, 19]  con distancia  37\n",
            "Generacion # 63  - La mejor solución es: [0, 0, 0, 0, 0, 0, 6, 6, 6, 6, 6, 6, 12, 12, 14, 12, 14, 12, 14, 19, 12, 14, 12, 19, 19, 19, 26, 14, 19, 19]  con distancia  37\n",
            "Generacion # 64  - La mejor solución es: [0, 0, 0, 0, 0, 0, 6, 6, 6, 6, 6, 6, 12, 12, 14, 12, 14, 12, 14, 19, 12, 14, 12, 19, 19, 19, 26, 14, 19, 19]  con distancia  37\n",
            "Generacion # 65  - La mejor solución es: [0, 0, 0, 0, 0, 0, 6, 6, 6, 6, 6, 6, 12, 12, 14, 12, 14, 12, 14, 19, 12, 14, 12, 19, 19, 19, 26, 14, 19, 19]  con distancia  37\n",
            "Generacion # 66  - La mejor solución es: [0, 0, 0, 0, 0, 0, 6, 6, 6, 6, 6, 6, 12, 12, 14, 12, 14, 12, 14, 19, 12, 14, 12, 19, 19, 19, 26, 14, 19, 19]  con distancia  37\n",
            "Generacion # 67  - La mejor solución es: [0, 0, 0, 0, 0, 0, 6, 6, 6, 6, 6, 6, 12, 12, 14, 12, 14, 12, 14, 19, 12, 14, 12, 19, 19, 19, 26, 14, 19, 19]  con distancia  37\n",
            "Generacion # 68  - La mejor solución es: [0, 0, 0, 0, 0, 0, 6, 6, 6, 6, 6, 6, 12, 12, 14, 12, 14, 12, 14, 19, 12, 14, 12, 19, 19, 19, 26, 14, 19, 19]  con distancia  37\n",
            "Generacion # 69  - La mejor solución es: [0, 0, 0, 0, 0, 0, 6, 6, 6, 6, 6, 6, 12, 12, 14, 12, 14, 12, 14, 19, 12, 14, 12, 19, 19, 19, 26, 14, 19, 19]  con distancia  37\n",
            "Generacion # 70  - La mejor solución es: [0, 0, 0, 0, 0, 0, 6, 6, 6, 6, 6, 6, 12, 12, 14, 12, 14, 12, 14, 19, 12, 14, 12, 19, 19, 19, 26, 14, 19, 19]  con distancia  37\n",
            "Generacion # 71  - La mejor solución es: [0, 0, 0, 0, 0, 0, 6, 6, 6, 6, 6, 6, 12, 12, 14, 12, 14, 12, 14, 19, 12, 14, 12, 19, 19, 19, 26, 14, 19, 19]  con distancia  37\n",
            "Generacion # 72  - La mejor solución es: [0, 0, 0, 0, 0, 0, 6, 6, 6, 6, 6, 6, 12, 12, 14, 12, 14, 12, 14, 19, 12, 14, 12, 19, 19, 19, 26, 14, 19, 19]  con distancia  37\n",
            "Generacion # 73  - La mejor solución es: [0, 0, 0, 0, 0, 0, 6, 6, 6, 6, 6, 6, 12, 12, 14, 12, 14, 12, 14, 19, 12, 14, 12, 19, 19, 19, 26, 14, 19, 19]  con distancia  37\n",
            "Generacion # 74  - La mejor solución es: [0, 0, 0, 0, 0, 0, 6, 6, 6, 6, 6, 6, 12, 12, 14, 12, 14, 12, 14, 19, 12, 14, 12, 19, 19, 19, 26, 14, 19, 19]  con distancia  37\n",
            "Generacion # 75  - La mejor solución es: [0, 0, 0, 0, 0, 0, 6, 6, 6, 6, 6, 6, 12, 12, 14, 12, 14, 12, 14, 19, 12, 14, 12, 19, 19, 19, 26, 14, 19, 19]  con distancia  37\n",
            "Generacion # 76  - La mejor solución es: [0, 0, 0, 0, 0, 0, 6, 6, 6, 6, 6, 6, 12, 12, 14, 12, 14, 12, 14, 19, 12, 14, 12, 19, 19, 19, 26, 14, 19, 19]  con distancia  37\n",
            "Generacion # 77  - La mejor solución es: [0, 0, 0, 0, 0, 0, 6, 6, 6, 6, 6, 6, 12, 12, 14, 12, 14, 12, 14, 19, 12, 14, 12, 19, 19, 19, 26, 14, 19, 19]  con distancia  37\n",
            "Generacion # 78  - La mejor solución es: [0, 0, 0, 0, 0, 0, 6, 6, 6, 6, 6, 6, 12, 12, 14, 12, 14, 12, 14, 19, 12, 14, 12, 19, 19, 19, 26, 14, 19, 19]  con distancia  37\n",
            "Generacion # 79  - La mejor solución es: [0, 0, 0, 0, 0, 0, 6, 6, 6, 6, 6, 6, 12, 12, 14, 12, 14, 12, 14, 19, 12, 14, 12, 19, 19, 19, 26, 14, 19, 19]  con distancia  37\n",
            "Generacion # 80  - La mejor solución es: [0, 0, 0, 0, 0, 0, 6, 6, 6, 6, 6, 6, 12, 12, 14, 12, 14, 12, 14, 19, 12, 14, 12, 19, 19, 19, 26, 14, 19, 19]  con distancia  37\n",
            "Generacion # 81  - La mejor solución es: [0, 0, 0, 0, 0, 0, 6, 6, 6, 6, 6, 6, 12, 12, 14, 12, 14, 12, 14, 19, 12, 14, 12, 19, 19, 19, 26, 14, 19, 19]  con distancia  37\n",
            "Generacion # 82  - La mejor solución es: [0, 0, 0, 0, 0, 0, 6, 6, 6, 6, 6, 6, 12, 12, 14, 12, 14, 12, 14, 19, 12, 14, 12, 19, 19, 19, 26, 14, 19, 19]  con distancia  37\n",
            "Generacion # 83  - La mejor solución es: [0, 0, 0, 0, 0, 0, 6, 6, 6, 6, 6, 6, 12, 12, 14, 12, 14, 12, 14, 19, 12, 14, 12, 19, 19, 19, 26, 14, 19, 19]  con distancia  37\n",
            "Generacion # 84  - La mejor solución es: [0, 0, 0, 0, 0, 0, 6, 6, 6, 6, 6, 6, 12, 12, 14, 12, 14, 12, 14, 19, 12, 14, 12, 19, 19, 19, 26, 14, 19, 19]  con distancia  37\n",
            "Generacion # 85  - La mejor solución es: [0, 0, 0, 0, 0, 0, 6, 6, 6, 6, 6, 6, 12, 12, 14, 12, 14, 12, 14, 19, 12, 14, 12, 19, 19, 19, 26, 14, 19, 19]  con distancia  37\n",
            "Generacion # 86  - La mejor solución es: [0, 0, 0, 0, 0, 0, 6, 6, 6, 6, 6, 6, 12, 12, 14, 12, 14, 12, 14, 19, 12, 14, 12, 19, 19, 19, 26, 14, 19, 19]  con distancia  37\n",
            "Generacion # 87  - La mejor solución es: [0, 0, 0, 0, 0, 0, 6, 6, 6, 6, 6, 6, 12, 12, 14, 12, 14, 12, 14, 19, 12, 14, 12, 19, 19, 19, 26, 14, 19, 19]  con distancia  37\n",
            "Generacion # 88  - La mejor solución es: [0, 0, 0, 0, 0, 0, 6, 6, 6, 6, 6, 6, 12, 12, 14, 12, 14, 12, 14, 19, 12, 14, 12, 19, 19, 19, 26, 14, 19, 19]  con distancia  37\n",
            "Generacion # 89  - La mejor solución es: [0, 0, 0, 0, 0, 0, 6, 6, 6, 6, 6, 6, 12, 12, 14, 12, 14, 12, 14, 19, 12, 14, 12, 19, 19, 19, 26, 14, 19, 19]  con distancia  37\n",
            "Generacion # 90  - La mejor solución es: [0, 0, 0, 0, 0, 0, 6, 6, 6, 6, 6, 6, 12, 12, 14, 12, 14, 12, 14, 19, 12, 14, 12, 19, 19, 19, 26, 14, 19, 19]  con distancia  37\n",
            "Generacion # 91  - La mejor solución es: [0, 0, 0, 0, 0, 0, 6, 6, 6, 6, 6, 6, 12, 12, 14, 12, 14, 12, 14, 19, 12, 14, 12, 19, 19, 19, 26, 14, 19, 19]  con distancia  37\n",
            "Generacion # 92  - La mejor solución es: [0, 0, 0, 0, 0, 0, 6, 6, 6, 6, 6, 6, 12, 12, 14, 12, 14, 12, 14, 19, 12, 14, 12, 19, 19, 19, 26, 14, 19, 19]  con distancia  37\n",
            "Generacion # 93  - La mejor solución es: [0, 0, 0, 0, 0, 0, 6, 6, 6, 6, 6, 6, 12, 12, 14, 12, 14, 12, 14, 19, 12, 14, 12, 19, 19, 19, 26, 14, 19, 19]  con distancia  37\n",
            "Generacion # 94  - La mejor solución es: [0, 0, 0, 0, 0, 0, 6, 6, 6, 6, 6, 6, 12, 12, 14, 12, 14, 12, 14, 19, 12, 14, 12, 19, 19, 19, 26, 14, 19, 19]  con distancia  37\n",
            "Generacion # 95  - La mejor solución es: [0, 0, 0, 0, 0, 0, 6, 6, 6, 6, 6, 6, 12, 12, 14, 12, 14, 12, 14, 19, 12, 14, 12, 19, 19, 19, 26, 14, 19, 19]  con distancia  37\n",
            "Generacion # 96  - La mejor solución es: [0, 0, 0, 0, 0, 0, 6, 6, 6, 6, 6, 6, 12, 12, 14, 12, 14, 12, 14, 19, 12, 14, 12, 19, 19, 19, 26, 14, 19, 19]  con distancia  37\n",
            "Generacion # 97  - La mejor solución es: [0, 0, 0, 0, 0, 0, 6, 6, 6, 6, 6, 6, 12, 12, 14, 12, 14, 12, 14, 19, 12, 14, 12, 19, 19, 19, 26, 14, 19, 19]  con distancia  37\n",
            "Generacion # 98  - La mejor solución es: [0, 0, 0, 0, 0, 0, 6, 6, 6, 6, 6, 6, 12, 12, 14, 12, 14, 12, 14, 19, 12, 14, 12, 19, 19, 19, 26, 14, 19, 19]  con distancia  37\n",
            "Generacion # 99  - La mejor solución es: [0, 0, 0, 0, 0, 0, 6, 6, 6, 6, 6, 6, 12, 12, 14, 12, 14, 12, 14, 19, 12, 14, 12, 19, 19, 19, 26, 14, 19, 19]  con distancia  37\n",
            "Generacion # 100  - La mejor solución es: [0, 0, 0, 0, 0, 0, 6, 6, 6, 6, 6, 6, 12, 12, 14, 12, 14, 12, 14, 19, 12, 14, 12, 19, 19, 19, 26, 14, 19, 19]  con distancia  37\n",
            "Generacion # 101  - La mejor solución es: [0, 0, 0, 0, 0, 0, 6, 6, 6, 6, 6, 6, 12, 12, 14, 12, 14, 12, 14, 19, 12, 14, 12, 19, 19, 19, 26, 14, 19, 19]  con distancia  37\n",
            "Generacion # 102  - La mejor solución es: [0, 0, 0, 0, 0, 0, 6, 6, 6, 6, 6, 6, 12, 12, 14, 12, 14, 12, 14, 19, 12, 14, 12, 19, 19, 19, 26, 14, 19, 19]  con distancia  37\n",
            "Generacion # 103  - La mejor solución es: [0, 0, 0, 0, 0, 0, 6, 6, 6, 6, 6, 6, 12, 12, 14, 12, 14, 12, 14, 19, 12, 14, 12, 19, 19, 19, 26, 14, 19, 19]  con distancia  37\n",
            "Generacion # 104  - La mejor solución es: [0, 0, 0, 0, 0, 0, 6, 6, 6, 6, 6, 6, 12, 12, 14, 12, 14, 12, 14, 19, 12, 14, 12, 19, 19, 19, 26, 14, 19, 19]  con distancia  37\n",
            "Generacion # 105  - La mejor solución es: [0, 0, 0, 0, 0, 0, 6, 6, 6, 6, 6, 6, 12, 12, 14, 12, 14, 12, 14, 19, 12, 14, 12, 19, 19, 19, 26, 14, 19, 19]  con distancia  37\n",
            "Generacion # 106  - La mejor solución es: [0, 0, 0, 0, 0, 0, 6, 6, 6, 6, 6, 6, 12, 12, 14, 12, 14, 12, 14, 19, 12, 14, 12, 19, 19, 19, 26, 14, 19, 19]  con distancia  37\n",
            "Generacion # 107  - La mejor solución es: [0, 0, 0, 0, 0, 0, 6, 6, 6, 6, 6, 6, 12, 12, 14, 12, 14, 12, 14, 19, 12, 14, 12, 19, 19, 19, 26, 14, 19, 19]  con distancia  37\n",
            "Generacion # 108  - La mejor solución es: [0, 0, 0, 0, 0, 0, 6, 6, 6, 6, 6, 6, 12, 12, 14, 12, 14, 12, 14, 19, 12, 14, 12, 19, 19, 19, 26, 14, 19, 19]  con distancia  37\n",
            "Generacion # 109  - La mejor solución es: [0, 0, 0, 0, 0, 0, 6, 6, 6, 6, 6, 6, 12, 12, 14, 12, 14, 12, 14, 19, 12, 14, 12, 19, 19, 19, 26, 14, 19, 19]  con distancia  37\n",
            "Generacion # 110  - La mejor solución es: [0, 0, 0, 0, 0, 0, 6, 6, 6, 6, 6, 6, 12, 12, 14, 12, 14, 12, 14, 19, 12, 14, 12, 19, 19, 19, 26, 14, 19, 19]  con distancia  37\n",
            "Generacion # 111  - La mejor solución es: [0, 0, 0, 0, 0, 0, 6, 6, 6, 6, 6, 6, 12, 12, 14, 12, 14, 12, 14, 19, 12, 14, 12, 19, 19, 19, 26, 14, 19, 19]  con distancia  37\n",
            "Generacion # 112  - La mejor solución es: [0, 0, 0, 0, 0, 0, 6, 6, 6, 6, 6, 6, 12, 12, 14, 12, 14, 12, 14, 19, 12, 14, 12, 19, 19, 19, 26, 14, 19, 19]  con distancia  37\n",
            "Generacion # 113  - La mejor solución es: [0, 0, 0, 0, 0, 0, 6, 6, 6, 6, 6, 6, 12, 12, 14, 12, 14, 12, 14, 19, 12, 14, 12, 19, 19, 19, 26, 14, 19, 19]  con distancia  37\n",
            "Generacion # 114  - La mejor solución es: [0, 0, 0, 0, 0, 0, 6, 6, 6, 6, 6, 6, 12, 12, 14, 12, 14, 12, 14, 19, 12, 14, 12, 19, 19, 19, 26, 14, 19, 19]  con distancia  37\n",
            "Generacion # 115  - La mejor solución es: [0, 0, 0, 0, 0, 0, 6, 6, 6, 6, 6, 6, 12, 12, 14, 12, 14, 12, 14, 19, 12, 14, 12, 19, 19, 19, 26, 14, 19, 19]  con distancia  37\n",
            "Generacion # 116  - La mejor solución es: [0, 0, 0, 0, 0, 0, 6, 6, 6, 6, 6, 6, 12, 12, 14, 12, 14, 12, 14, 19, 12, 14, 12, 19, 19, 19, 26, 14, 19, 19]  con distancia  37\n",
            "Generacion # 117  - La mejor solución es: [0, 0, 0, 0, 0, 0, 6, 6, 6, 6, 6, 6, 12, 12, 14, 12, 14, 12, 14, 19, 12, 14, 12, 19, 19, 19, 26, 14, 19, 19]  con distancia  37\n",
            "Generacion # 118  - La mejor solución es: [0, 0, 0, 0, 0, 0, 6, 6, 6, 6, 6, 6, 12, 12, 14, 12, 14, 12, 14, 19, 12, 14, 12, 19, 19, 19, 26, 14, 19, 19]  con distancia  37\n",
            "Generacion # 119  - La mejor solución es: [0, 0, 0, 0, 0, 0, 6, 6, 6, 6, 6, 6, 12, 12, 14, 12, 14, 12, 14, 19, 12, 14, 12, 19, 19, 19, 26, 14, 19, 19]  con distancia  37\n",
            "Generacion # 120  - La mejor solución es: [0, 0, 0, 0, 0, 0, 6, 6, 6, 6, 6, 6, 12, 12, 14, 12, 14, 12, 14, 19, 12, 14, 12, 19, 19, 19, 26, 14, 19, 19]  con distancia  37\n",
            "Generacion # 121  - La mejor solución es: [0, 0, 0, 0, 0, 0, 6, 6, 6, 6, 6, 6, 12, 12, 14, 12, 14, 12, 14, 19, 12, 14, 12, 19, 19, 19, 26, 14, 19, 19]  con distancia  37\n",
            "Generacion # 122  - La mejor solución es: [0, 0, 0, 0, 0, 0, 6, 6, 6, 6, 6, 6, 12, 12, 14, 12, 14, 12, 14, 19, 12, 14, 12, 19, 19, 19, 26, 14, 19, 19]  con distancia  37\n",
            "Generacion # 123  - La mejor solución es: [0, 0, 0, 0, 0, 0, 6, 6, 6, 6, 6, 6, 12, 12, 14, 12, 14, 12, 14, 19, 12, 14, 12, 19, 19, 19, 26, 14, 19, 19]  con distancia  37\n",
            "Generacion # 124  - La mejor solución es: [0, 0, 0, 0, 0, 0, 6, 6, 6, 6, 6, 6, 12, 12, 14, 12, 14, 12, 14, 19, 12, 14, 12, 19, 19, 19, 26, 14, 19, 19]  con distancia  37\n",
            "Generacion # 125  - La mejor solución es: [0, 0, 0, 0, 0, 0, 6, 6, 6, 6, 6, 6, 12, 12, 14, 12, 14, 12, 14, 19, 12, 14, 12, 19, 19, 19, 26, 14, 19, 19]  con distancia  37\n",
            "Generacion # 126  - La mejor solución es: [0, 0, 0, 0, 0, 0, 6, 6, 6, 6, 6, 6, 12, 12, 14, 12, 14, 12, 14, 19, 12, 14, 12, 19, 19, 19, 26, 14, 19, 19]  con distancia  37\n",
            "Generacion # 127  - La mejor solución es: [0, 0, 0, 0, 0, 0, 6, 6, 6, 6, 6, 6, 12, 12, 14, 12, 14, 12, 14, 19, 12, 14, 12, 19, 19, 19, 26, 14, 19, 19]  con distancia  37\n",
            "Generacion # 128  - La mejor solución es: [0, 0, 0, 0, 0, 0, 6, 6, 6, 6, 6, 6, 12, 12, 14, 12, 14, 12, 14, 19, 12, 14, 12, 19, 19, 19, 26, 14, 19, 19]  con distancia  37\n",
            "Generacion # 129  - La mejor solución es: [0, 0, 0, 0, 0, 0, 6, 6, 6, 6, 6, 6, 12, 12, 14, 12, 14, 12, 14, 19, 12, 14, 12, 19, 19, 19, 26, 14, 19, 19]  con distancia  37\n",
            "Generacion # 130  - La mejor solución es: [0, 0, 0, 0, 0, 0, 6, 6, 6, 6, 6, 6, 12, 12, 14, 12, 14, 12, 14, 19, 12, 14, 12, 19, 19, 19, 26, 14, 19, 19]  con distancia  37\n",
            "Generacion # 131  - La mejor solución es: [0, 0, 0, 0, 0, 0, 6, 6, 6, 6, 6, 6, 12, 12, 14, 12, 14, 12, 14, 19, 12, 14, 12, 19, 19, 19, 26, 14, 19, 19]  con distancia  37\n",
            "Generacion # 132  - La mejor solución es: [0, 0, 0, 0, 0, 0, 6, 6, 6, 6, 6, 6, 12, 12, 14, 12, 14, 12, 14, 19, 12, 14, 12, 19, 19, 19, 26, 14, 19, 19]  con distancia  37\n",
            "Generacion # 133  - La mejor solución es: [0, 0, 0, 0, 0, 0, 6, 6, 6, 6, 6, 6, 12, 12, 14, 12, 14, 12, 14, 19, 12, 14, 12, 19, 19, 19, 26, 14, 19, 19]  con distancia  37\n",
            "Generacion # 134  - La mejor solución es: [0, 0, 0, 0, 0, 0, 6, 6, 6, 6, 6, 6, 12, 12, 14, 12, 14, 12, 14, 19, 12, 14, 12, 19, 19, 19, 26, 14, 19, 19]  con distancia  37\n",
            "Generacion # 135  - La mejor solución es: [0, 0, 0, 0, 0, 0, 6, 6, 6, 6, 6, 6, 12, 12, 14, 12, 14, 12, 14, 19, 12, 14, 12, 19, 19, 19, 26, 14, 19, 19]  con distancia  37\n",
            "Generacion # 136  - La mejor solución es: [0, 0, 0, 0, 0, 0, 6, 6, 6, 6, 6, 6, 12, 12, 14, 12, 14, 12, 14, 19, 12, 14, 12, 19, 19, 19, 26, 14, 19, 19]  con distancia  37\n",
            "Generacion # 137  - La mejor solución es: [0, 0, 0, 0, 0, 0, 6, 6, 6, 6, 6, 6, 12, 12, 14, 12, 14, 12, 14, 19, 12, 14, 12, 19, 19, 19, 26, 14, 19, 19]  con distancia  37\n",
            "Generacion # 138  - La mejor solución es: [0, 0, 0, 0, 0, 0, 6, 6, 6, 6, 6, 6, 12, 12, 14, 12, 14, 12, 14, 19, 12, 14, 12, 19, 19, 19, 26, 14, 19, 19]  con distancia  37\n",
            "Generacion # 139  - La mejor solución es: [0, 0, 0, 0, 0, 0, 6, 6, 6, 6, 6, 6, 12, 12, 14, 12, 14, 12, 14, 19, 12, 14, 12, 19, 19, 19, 26, 14, 19, 19]  con distancia  37\n",
            "Generacion # 140  - La mejor solución es: [0, 0, 0, 0, 0, 0, 6, 6, 6, 6, 6, 6, 12, 12, 14, 12, 14, 12, 14, 19, 12, 14, 12, 19, 19, 19, 26, 14, 19, 19]  con distancia  37\n",
            "Generacion # 141  - La mejor solución es: [0, 0, 0, 0, 0, 0, 6, 6, 6, 6, 6, 6, 12, 12, 14, 12, 14, 12, 14, 19, 12, 14, 12, 19, 19, 19, 26, 14, 19, 19]  con distancia  37\n",
            "Generacion # 142  - La mejor solución es: [0, 0, 0, 0, 0, 0, 6, 6, 6, 6, 6, 6, 12, 12, 14, 12, 14, 12, 14, 19, 12, 14, 12, 19, 19, 19, 26, 14, 19, 19]  con distancia  37\n",
            "Generacion # 143  - La mejor solución es: [0, 0, 0, 0, 0, 0, 6, 6, 6, 6, 6, 6, 12, 12, 14, 12, 14, 12, 14, 19, 12, 14, 12, 19, 19, 19, 26, 14, 19, 19]  con distancia  37\n",
            "Generacion # 144  - La mejor solución es: [0, 0, 0, 0, 0, 0, 6, 6, 6, 6, 6, 6, 12, 12, 14, 12, 14, 12, 14, 19, 12, 14, 12, 19, 19, 19, 26, 14, 19, 19]  con distancia  37\n",
            "Generacion # 145  - La mejor solución es: [0, 0, 0, 0, 0, 0, 6, 6, 6, 6, 6, 6, 12, 12, 14, 12, 14, 12, 14, 19, 12, 14, 12, 19, 19, 19, 26, 14, 19, 19]  con distancia  37\n",
            "Generacion # 146  - La mejor solución es: [0, 0, 0, 0, 0, 0, 6, 6, 6, 6, 6, 6, 12, 12, 14, 12, 14, 12, 14, 19, 12, 14, 12, 19, 19, 19, 26, 14, 19, 19]  con distancia  37\n",
            "Generacion # 147  - La mejor solución es: [0, 0, 0, 0, 0, 0, 6, 6, 6, 6, 6, 6, 12, 12, 14, 12, 14, 12, 14, 19, 12, 14, 12, 19, 19, 19, 26, 14, 19, 19]  con distancia  37\n",
            "Generacion # 148  - La mejor solución es: [0, 0, 0, 0, 0, 0, 6, 6, 6, 6, 6, 6, 12, 12, 14, 12, 14, 12, 14, 19, 12, 14, 12, 19, 19, 19, 26, 14, 19, 19]  con distancia  37\n",
            "Generacion # 149  - La mejor solución es: [0, 0, 0, 0, 0, 0, 6, 6, 6, 6, 6, 6, 12, 12, 14, 12, 14, 12, 14, 19, 12, 14, 12, 19, 19, 19, 26, 14, 19, 19]  con distancia  37\n",
            "Generacion # 150  - La mejor solución es: [0, 0, 0, 0, 0, 0, 6, 6, 6, 6, 6, 6, 12, 12, 14, 12, 14, 12, 14, 19, 12, 14, 12, 19, 19, 19, 26, 14, 19, 19]  con distancia  37\n",
            "Generacion # 151  - La mejor solución es: [0, 0, 0, 0, 0, 0, 6, 6, 6, 6, 6, 6, 12, 12, 14, 12, 14, 12, 14, 19, 12, 14, 12, 19, 19, 19, 26, 14, 19, 19]  con distancia  37\n",
            "Generacion # 152  - La mejor solución es: [0, 0, 0, 0, 0, 0, 6, 6, 6, 6, 6, 6, 12, 12, 14, 12, 14, 12, 14, 19, 12, 14, 12, 19, 19, 19, 26, 14, 19, 19]  con distancia  37\n",
            "Generacion # 153  - La mejor solución es: [0, 0, 0, 0, 0, 0, 6, 6, 6, 6, 6, 6, 12, 12, 14, 12, 14, 12, 14, 19, 12, 14, 12, 19, 19, 19, 26, 14, 19, 19]  con distancia  37\n",
            "Generacion # 154  - La mejor solución es: [0, 0, 0, 0, 0, 0, 6, 6, 6, 6, 6, 6, 12, 12, 14, 12, 14, 12, 14, 19, 12, 14, 12, 19, 19, 19, 26, 14, 19, 19]  con distancia  37\n",
            "Generacion # 155  - La mejor solución es: [0, 0, 0, 0, 0, 0, 6, 6, 6, 6, 6, 6, 12, 12, 14, 12, 14, 12, 14, 19, 12, 14, 12, 19, 19, 19, 26, 14, 19, 19]  con distancia  37\n",
            "Generacion # 156  - La mejor solución es: [0, 0, 0, 0, 0, 0, 6, 6, 6, 6, 6, 6, 12, 12, 14, 12, 14, 12, 14, 19, 12, 14, 12, 19, 19, 19, 26, 14, 19, 19]  con distancia  37\n",
            "Generacion # 157  - La mejor solución es: [0, 0, 0, 0, 0, 0, 6, 6, 6, 6, 6, 6, 12, 12, 14, 12, 14, 12, 14, 19, 12, 14, 12, 19, 19, 19, 26, 14, 19, 19]  con distancia  37\n",
            "Generacion # 158  - La mejor solución es: [0, 0, 0, 0, 0, 0, 6, 6, 6, 6, 6, 6, 12, 12, 14, 12, 14, 12, 14, 19, 12, 14, 12, 19, 19, 19, 26, 14, 19, 19]  con distancia  37\n",
            "Generacion # 159  - La mejor solución es: [0, 0, 0, 0, 0, 0, 6, 6, 6, 6, 6, 6, 12, 12, 14, 12, 14, 12, 14, 19, 12, 14, 12, 19, 19, 19, 26, 14, 19, 19]  con distancia  37\n",
            "Generacion # 160  - La mejor solución es: [0, 0, 0, 0, 0, 0, 6, 6, 6, 6, 6, 6, 12, 12, 14, 12, 14, 12, 14, 19, 12, 14, 12, 19, 19, 19, 26, 14, 19, 19]  con distancia  37\n",
            "Generacion # 161  - La mejor solución es: [0, 0, 0, 0, 0, 0, 6, 6, 6, 6, 6, 6, 12, 12, 14, 12, 14, 12, 14, 19, 12, 14, 12, 19, 19, 19, 26, 14, 19, 19]  con distancia  37\n",
            "Generacion # 162  - La mejor solución es: [0, 0, 0, 0, 0, 0, 6, 6, 6, 6, 6, 6, 12, 12, 14, 12, 14, 12, 14, 19, 12, 14, 12, 19, 19, 19, 26, 14, 19, 19]  con distancia  37\n",
            "Generacion # 163  - La mejor solución es: [0, 0, 0, 0, 0, 0, 6, 6, 6, 6, 6, 6, 12, 12, 14, 12, 14, 12, 14, 19, 12, 14, 12, 19, 19, 19, 26, 14, 19, 19]  con distancia  37\n",
            "Generacion # 164  - La mejor solución es: [0, 0, 0, 0, 0, 0, 6, 6, 6, 6, 6, 6, 12, 12, 14, 12, 14, 12, 14, 19, 12, 14, 12, 19, 19, 19, 26, 14, 19, 19]  con distancia  37\n",
            "Generacion # 165  - La mejor solución es: [0, 0, 0, 0, 0, 0, 6, 6, 6, 6, 6, 6, 12, 12, 14, 12, 14, 12, 14, 19, 12, 14, 12, 19, 19, 19, 26, 14, 19, 19]  con distancia  37\n",
            "Generacion # 166  - La mejor solución es: [0, 0, 0, 0, 0, 0, 6, 6, 6, 6, 6, 6, 12, 12, 14, 12, 14, 12, 14, 19, 12, 14, 12, 19, 19, 19, 26, 14, 19, 19]  con distancia  37\n",
            "Generacion # 167  - La mejor solución es: [0, 0, 0, 0, 0, 0, 6, 6, 6, 6, 6, 6, 12, 12, 14, 12, 14, 12, 14, 19, 12, 14, 12, 19, 19, 19, 26, 14, 19, 19]  con distancia  37\n",
            "Generacion # 168  - La mejor solución es: [0, 0, 0, 0, 0, 0, 6, 6, 6, 6, 6, 6, 12, 12, 14, 12, 14, 12, 14, 19, 12, 14, 12, 19, 19, 19, 26, 14, 19, 19]  con distancia  37\n",
            "Generacion # 169  - La mejor solución es: [0, 0, 0, 0, 0, 0, 6, 6, 6, 6, 6, 6, 12, 12, 14, 12, 14, 12, 14, 19, 12, 14, 12, 19, 19, 19, 26, 14, 19, 19]  con distancia  37\n",
            "Generacion # 170  - La mejor solución es: [0, 0, 0, 0, 0, 0, 6, 6, 6, 6, 6, 6, 12, 12, 14, 12, 14, 12, 14, 19, 12, 14, 12, 19, 19, 19, 26, 14, 19, 19]  con distancia  37\n",
            "Generacion # 171  - La mejor solución es: [0, 0, 0, 0, 0, 0, 6, 6, 6, 6, 6, 6, 12, 12, 14, 12, 14, 12, 14, 19, 12, 14, 12, 19, 19, 19, 26, 14, 19, 19]  con distancia  37\n",
            "Generacion # 172  - La mejor solución es: [0, 0, 0, 0, 0, 0, 6, 6, 6, 6, 6, 6, 12, 12, 14, 12, 14, 12, 14, 19, 12, 14, 12, 19, 19, 19, 26, 14, 19, 19]  con distancia  37\n",
            "Generacion # 173  - La mejor solución es: [0, 0, 0, 0, 0, 0, 6, 6, 6, 6, 6, 6, 12, 12, 14, 12, 14, 12, 14, 19, 12, 14, 12, 19, 19, 19, 26, 14, 19, 19]  con distancia  37\n",
            "Generacion # 174  - La mejor solución es: [0, 0, 0, 0, 0, 0, 6, 6, 6, 6, 6, 6, 12, 12, 14, 12, 14, 12, 14, 19, 12, 14, 12, 19, 19, 19, 26, 14, 19, 19]  con distancia  37\n",
            "Generacion # 175  - La mejor solución es: [0, 0, 0, 0, 0, 0, 6, 6, 6, 6, 6, 6, 12, 12, 14, 12, 14, 12, 14, 19, 12, 14, 12, 19, 19, 19, 26, 14, 19, 19]  con distancia  37\n",
            "Generacion # 176  - La mejor solución es: [0, 0, 0, 0, 0, 0, 6, 6, 6, 6, 6, 6, 12, 12, 14, 12, 14, 12, 14, 19, 12, 14, 12, 19, 19, 19, 26, 14, 19, 19]  con distancia  37\n",
            "Generacion # 177  - La mejor solución es: [0, 0, 0, 0, 0, 0, 6, 6, 6, 6, 6, 6, 12, 12, 14, 12, 14, 12, 14, 19, 12, 14, 12, 19, 19, 19, 26, 14, 19, 19]  con distancia  37\n",
            "Generacion # 178  - La mejor solución es: [0, 0, 0, 0, 0, 0, 6, 6, 6, 6, 6, 6, 12, 12, 14, 12, 14, 12, 14, 19, 12, 14, 12, 19, 19, 19, 26, 14, 19, 19]  con distancia  37\n",
            "Generacion # 179  - La mejor solución es: [0, 0, 0, 0, 0, 0, 6, 6, 6, 6, 6, 6, 12, 12, 14, 12, 14, 12, 14, 19, 12, 14, 12, 19, 19, 19, 26, 14, 19, 19]  con distancia  37\n",
            "Generacion # 180  - La mejor solución es: [0, 0, 0, 0, 0, 0, 6, 6, 6, 6, 6, 6, 12, 12, 14, 12, 14, 12, 14, 19, 12, 14, 12, 19, 19, 19, 26, 14, 19, 19]  con distancia  37\n",
            "Generacion # 181  - La mejor solución es: [0, 0, 0, 0, 0, 0, 6, 6, 6, 6, 6, 6, 12, 12, 14, 12, 14, 12, 14, 19, 12, 14, 12, 19, 19, 19, 26, 14, 19, 19]  con distancia  37\n",
            "Generacion # 182  - La mejor solución es: [0, 0, 0, 0, 0, 0, 6, 6, 6, 6, 6, 6, 12, 12, 14, 12, 14, 12, 14, 19, 12, 14, 12, 19, 19, 19, 26, 14, 19, 19]  con distancia  37\n",
            "Generacion # 183  - La mejor solución es: [0, 0, 0, 0, 0, 0, 6, 6, 6, 6, 6, 6, 12, 12, 14, 12, 14, 12, 14, 19, 12, 14, 12, 19, 19, 19, 26, 14, 19, 19]  con distancia  37\n",
            "Generacion # 184  - La mejor solución es: [0, 0, 0, 0, 0, 0, 6, 6, 6, 6, 6, 6, 12, 12, 14, 12, 14, 12, 14, 19, 12, 14, 12, 19, 19, 19, 26, 14, 19, 19]  con distancia  37\n",
            "Generacion # 185  - La mejor solución es: [0, 0, 0, 0, 0, 0, 6, 6, 6, 6, 6, 6, 12, 12, 14, 12, 14, 12, 14, 19, 12, 14, 12, 19, 19, 19, 26, 14, 19, 19]  con distancia  37\n",
            "Generacion # 186  - La mejor solución es: [0, 0, 0, 0, 0, 0, 6, 6, 6, 6, 6, 6, 12, 12, 14, 12, 14, 12, 14, 19, 12, 14, 12, 19, 19, 19, 26, 14, 19, 19]  con distancia  37\n",
            "Generacion # 187  - La mejor solución es: [0, 0, 0, 0, 0, 0, 6, 6, 6, 6, 6, 6, 12, 12, 14, 12, 14, 12, 14, 19, 12, 14, 12, 19, 19, 19, 26, 14, 19, 19]  con distancia  37\n",
            "Generacion # 188  - La mejor solución es: [0, 0, 0, 0, 0, 0, 6, 6, 6, 6, 6, 6, 12, 12, 14, 12, 14, 12, 14, 19, 12, 14, 12, 19, 19, 19, 26, 14, 19, 19]  con distancia  37\n",
            "Generacion # 189  - La mejor solución es: [0, 0, 0, 0, 0, 0, 6, 6, 6, 6, 6, 6, 12, 12, 14, 12, 14, 12, 14, 19, 12, 14, 12, 19, 19, 19, 26, 14, 19, 19]  con distancia  37\n",
            "Generacion # 190  - La mejor solución es: [0, 0, 0, 0, 0, 0, 6, 6, 6, 6, 6, 6, 12, 12, 14, 12, 14, 12, 14, 19, 12, 14, 12, 19, 19, 19, 26, 14, 19, 19]  con distancia  37\n",
            "Generacion # 191  - La mejor solución es: [0, 0, 0, 0, 0, 0, 6, 6, 6, 6, 6, 6, 12, 12, 14, 12, 14, 12, 14, 19, 12, 14, 12, 19, 19, 19, 26, 14, 19, 19]  con distancia  37\n",
            "Generacion # 192  - La mejor solución es: [0, 0, 0, 0, 0, 0, 6, 6, 6, 6, 6, 6, 12, 12, 14, 12, 14, 12, 14, 19, 12, 14, 12, 19, 19, 19, 26, 14, 19, 19]  con distancia  37\n",
            "Generacion # 193  - La mejor solución es: [0, 0, 0, 0, 0, 0, 6, 6, 6, 6, 6, 6, 12, 12, 14, 12, 14, 12, 14, 19, 12, 14, 12, 19, 19, 19, 26, 14, 19, 19]  con distancia  37\n",
            "Generacion # 194  - La mejor solución es: [0, 0, 0, 0, 0, 0, 6, 6, 6, 6, 6, 6, 12, 12, 14, 12, 14, 12, 14, 19, 12, 14, 12, 19, 19, 19, 26, 14, 19, 19]  con distancia  37\n",
            "Generacion # 195  - La mejor solución es: [0, 0, 0, 0, 0, 0, 6, 6, 6, 6, 6, 6, 12, 12, 14, 12, 14, 12, 14, 19, 12, 14, 12, 19, 19, 19, 26, 14, 19, 19]  con distancia  37\n",
            "Generacion # 196  - La mejor solución es: [0, 0, 0, 0, 0, 0, 6, 6, 6, 6, 6, 6, 12, 12, 14, 12, 14, 12, 14, 19, 12, 14, 12, 19, 19, 19, 26, 14, 19, 19]  con distancia  37\n",
            "Generacion # 197  - La mejor solución es: [0, 0, 0, 0, 0, 0, 6, 6, 6, 6, 6, 6, 12, 12, 14, 12, 14, 12, 14, 19, 12, 14, 12, 19, 19, 19, 26, 14, 19, 19]  con distancia  37\n",
            "Generacion # 198  - La mejor solución es: [0, 0, 0, 0, 0, 0, 6, 6, 6, 6, 6, 6, 12, 12, 14, 12, 14, 12, 14, 19, 12, 14, 12, 19, 19, 19, 26, 14, 19, 19]  con distancia  37\n",
            "Generacion # 199  - La mejor solución es: [0, 0, 0, 0, 0, 0, 6, 6, 6, 6, 6, 6, 12, 12, 14, 12, 14, 12, 14, 19, 12, 14, 12, 19, 19, 19, 26, 14, 19, 19]  con distancia  37\n",
            "Generacion # 200  - La mejor solución es: [0, 0, 0, 0, 0, 0, 6, 6, 6, 6, 6, 6, 12, 12, 14, 12, 14, 12, 14, 19, 12, 14, 12, 19, 19, 19, 26, 14, 19, 19]  con distancia  37\n"
          ]
        }
      ]
    }
  ]
}