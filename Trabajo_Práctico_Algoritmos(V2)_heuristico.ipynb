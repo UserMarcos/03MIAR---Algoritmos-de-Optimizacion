{
  "nbformat": 4,
  "nbformat_minor": 0,
  "metadata": {
    "colab": {
      "provenance": [],
      "include_colab_link": true
    },
    "kernelspec": {
      "name": "python3",
      "display_name": "Python 3"
    }
  },
  "cells": [
    {
      "cell_type": "markdown",
      "metadata": {
        "id": "view-in-github",
        "colab_type": "text"
      },
      "source": [
        "<a href=\"https://colab.research.google.com/github/UserMarcos/03MIAR---Algoritmos-de-Optimizacion/blob/main/Trabajo_Pr%C3%A1ctico_Algoritmos(V2)_heuristico.ipynb\" target=\"_parent\"><img src=\"https://colab.research.google.com/assets/colab-badge.svg\" alt=\"Open In Colab\"/></a>"
      ]
    },
    {
      "cell_type": "markdown",
      "metadata": {
        "id": "hVbXYX-RfPWh"
      },
      "source": [
        "# Algoritmos de optimización - Trabajo Práctico<br>\n",
        "Nombre y Apellidos: Marcos Castro Castro  <br>\n",
        "Url: https://github.com/.../03MAIR---Algoritmos-de-Optimizacion---/tree/master/TrabajoPractico<br>\n",
        "Google Colab: https://colab.research.google.com/drive/xxxxxxxxxxxxxxxx <br>\n",
        "Problema:\n",
        ">1. Sesiones de doblaje <br>\n",
        ">2. Organizar los horarios de partidos de La Liga<br>\n",
        ">3. Configuración de Tribunales\n",
        "\n",
        "Descripción del problema:(copiar enunciado)\n",
        "\n",
        "## Problema 1. Organizar sesiones de doblaje(I)\n",
        "Se precisa coordinar el doblaje de una película. Los actores del doblaje deben coincidir en las tomas en las que sus personajes aparecen juntos en las diferentes tomas. Los actores de doblaje cobran todos la misma cantidad por cada día que deben desplazarse hasta el estudio de grabación independientemente del número de tomas que se graben. No es posible grabar más de 6 tomas por día. El objetivo es planificar las sesiones por día de manera que el gasto por los\n",
        "servicios de los actores de doblaje sea el menor posible. Los datos son:\n",
        "- Número de actores: 10\n",
        "- Número de tomas : 30\n",
        "- Actores/Tomas : https://bit.ly/36D8IuK\n",
        "  - 1 indica que el actor participa en la toma\n",
        "  - 0 en caso contrario"
      ]
    },
    {
      "cell_type": "markdown",
      "source": [
        "#Modelo\n",
        "- ¿Como represento el espacio de soluciones?\n",
        "- ¿Cual es la función objetivo?\n",
        "- ¿Como implemento las restricciones?"
      ],
      "metadata": {
        "id": "Sbo9IqQtpaHZ"
      }
    },
    {
      "cell_type": "markdown",
      "source": [],
      "metadata": {
        "id": "67p_vszBposu"
      }
    },
    {
      "cell_type": "markdown",
      "source": [
        "#Análisis\n",
        "- ¿Que complejidad tiene el problema?. Orden de complejidad y Contabilizar el espacio de soluciones"
      ],
      "metadata": {
        "id": "HZz52wOppp-U"
      }
    },
    {
      "cell_type": "code",
      "metadata": {
        "id": "AiskKkzZfy4e",
        "colab": {
          "base_uri": "https://localhost:8080/"
        },
        "outputId": "288f4c48-dabd-49a7-a273-17857fe85edd"
      },
      "source": [
        "# Creamos la tabla de tomas\n",
        "Numero_actores = 10\n",
        "\n",
        "Actores_por_Toma = [\n",
        "    {1, 2, 3, 4, 5},  # Toma 1\n",
        "    {3, 4, 5},        # Toma 2\n",
        "    {2, 5, 7},        # Toma 3\n",
        "    {1, 2, 7, 8},     # Toma 4\n",
        "    {2, 4, 8},        # Toma 5\n",
        "    {1, 2, 4, 5},     # Toma 6\n",
        "    {1, 2, 4, 5},     # Toma 7\n",
        "    {1, 2, 6},        # Toma 8\n",
        "    {1, 2, 4},        # Toma 9\n",
        "    {1, 2, 6, 9},     # Toma 10\n",
        "    {1, 2, 3, 5, 8},  # Toma 11\n",
        "    {1, 2, 3, 4, 6},  # Toma 12\n",
        "    {1, 4, 5},        # Toam 13\n",
        "    {1, 3, 6},        # Toma 14\n",
        "    {1, 2, 7},        # Toma 15\n",
        "    {4, 10},          # Toma 16\n",
        "    {1, 3},           # Toma 17\n",
        "    {3, 6},           # Toma 18\n",
        "    {1, 3},           # Toma 19\n",
        "    {1, 3, 4, 5},     # Toma 20\n",
        "    {6, 8},           # Toma 21\n",
        "    {1, 2, 3, 4},     # Toma 22\n",
        "    {1, 3},           # Toma 23\n",
        "    {3, 6},           # Toma 24\n",
        "    {1, 2, 4, 10},    # Toma 25\n",
        "    {1, 3, 5, 9},\n",
        "    {4, 5},\n",
        "    {1, 4},\n",
        "    {1, 5, 6},\n",
        "    {1, 4}\n",
        "    ]\n",
        "\n",
        "Actores_por_Toma"
      ],
      "execution_count": 46,
      "outputs": [
        {
          "output_type": "execute_result",
          "data": {
            "text/plain": [
              "[{1, 2, 3, 4, 5},\n",
              " {3, 4, 5},\n",
              " {2, 5, 7},\n",
              " {1, 2, 7, 8},\n",
              " {2, 4, 8},\n",
              " {1, 2, 4, 5},\n",
              " {1, 2, 4, 5},\n",
              " {1, 2, 6},\n",
              " {1, 2, 4},\n",
              " {1, 2, 6, 9},\n",
              " {1, 2, 3, 5, 8},\n",
              " {1, 2, 3, 4, 6},\n",
              " {1, 4, 5},\n",
              " {1, 3, 6},\n",
              " {1, 2, 7},\n",
              " {4, 10},\n",
              " {1, 3},\n",
              " {3, 6},\n",
              " {1, 3},\n",
              " {1, 3, 4, 5},\n",
              " {6, 8},\n",
              " {1, 2, 3, 4},\n",
              " {1, 3},\n",
              " {3, 6},\n",
              " {1, 2, 4, 10},\n",
              " {1, 3, 5, 9},\n",
              " {4, 5},\n",
              " {1, 4},\n",
              " {1, 5, 6},\n",
              " {1, 4}]"
            ]
          },
          "metadata": {},
          "execution_count": 46
        }
      ]
    },
    {
      "cell_type": "code",
      "source": [
        "N_Actores_por_toma = [len(x) for x in Actores_por_Toma]\n",
        "print(\"Número de actores por toma: \", N_Actores_por_toma)\n",
        "\n",
        "N_Tomas_por_actor = []\n",
        "for i in range(Numero_actores):\n",
        "  Numero_tomas = 0\n",
        "  for Toma in Actores_por_Toma:\n",
        "    if i+1 in Toma:\n",
        "      Numero_tomas = Numero_tomas + 1\n",
        "  N_Tomas_por_actor.append(Numero_tomas)\n",
        "\n",
        "print(\"Número de tomas por actor: \", N_Tomas_por_actor)"
      ],
      "metadata": {
        "id": "CZ-5BmpspttV",
        "colab": {
          "base_uri": "https://localhost:8080/"
        },
        "outputId": "35fedffb-9ad6-4d54-cd90-6301afcc8916"
      },
      "execution_count": 48,
      "outputs": [
        {
          "output_type": "stream",
          "name": "stdout",
          "text": [
            "Número de actores por toma:  [5, 3, 3, 4, 3, 4, 4, 3, 3, 4, 5, 5, 3, 3, 3, 2, 2, 2, 2, 4, 2, 4, 2, 2, 4, 4, 2, 2, 3, 2]\n",
            "Número de tomas por actor:  [22, 14, 13, 15, 11, 8, 3, 4, 2, 2]\n"
          ]
        }
      ]
    },
    {
      "cell_type": "code",
      "source": [
        "def Get_Actores_Dia(Dias_Toma, Actores_Toma):\n",
        "  Actores_Dia = dict()\n",
        "  for i in range(len(Dias_Toma)):\n",
        "    N_Dia = Dias_Toma[i]\n",
        "    if  N_Dia in Actores_Dia:\n",
        "      Actores_Dia[N_Dia].update(Actores_Toma[i])\n",
        "    else:\n",
        "      Actores_Dia[N_Dia] = Actores_Toma[i].copy()\n",
        "  return Actores_Dia\n",
        "\n",
        "Dia_por_Toma = [0, 1, 0, 2, 2]\n",
        "print(Dia_por_Toma)\n",
        "print(Actores_por_Toma)\n",
        "Actores_Dia = Get_Actores_Dia(Dia_por_Toma, Actores_por_Toma)\n",
        "Actores_Dia"
      ],
      "metadata": {
        "id": "uNwGHVELVLqU",
        "outputId": "13a2b0ab-88af-4c19-dd77-10a8008c007f",
        "colab": {
          "base_uri": "https://localhost:8080/"
        }
      },
      "execution_count": 43,
      "outputs": [
        {
          "output_type": "stream",
          "name": "stdout",
          "text": [
            "[0, 1, 0, 2, 2]\n",
            "[{1, 2, 3, 4, 5}, {3, 4, 5}, {2, 5, 7}, {8, 1, 2, 7}, {8, 2, 4}, {1, 2, 4, 5}, {1, 2, 4, 5}, {1, 2, 6}, {1, 2, 4}, {1, 2, 6, 9}, {1, 2, 3, 5, 8}, {1, 2, 3, 4, 6}, {1, 4, 5}, {1, 3, 6}, {1, 2, 7}, {10, 4}, {1, 3}, {3, 6}, {1, 3}, {1, 3, 4, 5}, {8, 6}, {1, 2, 3, 4}, {1, 3}, {3, 6}, {1, 2, 10, 4}, {1, 3, 5, 9}, {4, 5}, {1, 4}, {1, 5, 6}, {1, 4}]\n"
          ]
        },
        {
          "output_type": "execute_result",
          "data": {
            "text/plain": [
              "{0: {1, 2, 3, 4, 5, 7}, 1: {3, 4, 5}, 2: {1, 2, 4, 7, 8}}"
            ]
          },
          "metadata": {},
          "execution_count": 43
        }
      ]
    },
    {
      "cell_type": "code",
      "source": [
        "def Get_Coste(Actores_Dia):\n",
        "  Coste = 0\n",
        "  for Dia in Actores_Dia:\n",
        "    Coste += len(Actores_Dia[Dia])\n",
        "  return Coste\n",
        "\n",
        "def Get_Coste_Inf(Dias_Toma, Actores_Toma):\n",
        "  Valor = Get_Coste(Get_Actores_Dia(Dias_Toma, Actores_Toma))\n",
        "\n",
        "  # Estimación\n",
        "  for i in range(Numero_actores):\n",
        "    Numero_tomas = 0\n",
        "    for j in range(len(Dias_Toma), len(Actores_Toma)):\n",
        "      if i+1 in Actores_Toma[j]:\n",
        "        Numero_tomas += 1\n",
        "    Valor += (Numero_tomas - len(Dias_Toma))//6\n",
        "  return Valor\n",
        "\n",
        "def Get_Coste_Sup(Dias_Toma, Actores_Toma):\n",
        "  Valor = Get_Coste(Get_Actores_Dia(Dias_Toma, Actores_Toma))\n",
        "\n",
        "  # Estimación\n",
        "  for i in range(len(Dias_Toma), len(Actores_Toma)):\n",
        "    Valor += len(Actores_Toma)\n",
        "  return Valor\n",
        "\n",
        "print(Get_Coste(Actores_Dia))\n",
        "\n",
        "print(Get_Coste_Sup(Dia_por_Toma, Actores_por_Toma))"
      ],
      "metadata": {
        "id": "Rqs-F5GtGNek",
        "outputId": "bcd07ad7-fe0f-45d4-9c3a-1258dddb0f38",
        "colab": {
          "base_uri": "https://localhost:8080/"
        }
      },
      "execution_count": 44,
      "outputs": [
        {
          "output_type": "stream",
          "name": "stdout",
          "text": [
            "14\n",
            "764\n"
          ]
        }
      ]
    },
    {
      "cell_type": "code",
      "source": [
        "def Crear_Hijos(Nodo):\n",
        "  Hijos = []\n",
        "  long = len(Nodo)\n",
        "  for i in range(long):\n",
        "    n = Nodo.count(i)\n",
        "    if n < 6 and n > 0:\n",
        "      Hijos.append({'s':Nodo +(i,)})\n",
        "  Hijos.append({'s':Nodo +(long,)})\n",
        "  return Hijos\n",
        "\n",
        "Crear_Hijos((0, 0, 2))"
      ],
      "metadata": {
        "id": "4QnkMA4oAKZy",
        "outputId": "f6e2aa3a-eb95-4435-8355-0ee6a1ce5351",
        "colab": {
          "base_uri": "https://localhost:8080/"
        }
      },
      "execution_count": null,
      "outputs": [
        {
          "output_type": "execute_result",
          "data": {
            "text/plain": [
              "[{'s': (0, 0, 2, 0)}, {'s': (0, 0, 2, 2)}, {'s': (0, 0, 2, 3)}]"
            ]
          },
          "metadata": {},
          "execution_count": 14
        }
      ]
    },
    {
      "cell_type": "code",
      "source": [
        "def Calcular_Sesiones(Dias_Toma, Actores_Toma):\n",
        "  if (len(Dias_Toma) >= len(Actores_Toma)):\n",
        "    return Get_Gasto(Get_Actores_Dia(Dias_Toma, Actores_Toma))\n",
        "  else:\n",
        "    for i in range(len(Dias_Toma)):\n",
        "\n",
        "\n",
        "    Dias_Toma.append(len(Dias_Toma))\n",
        "    return Calcular_Sesiones(Dias_Toma, Actores_Toma)\n",
        "\n",
        "Dias_por_Toma = []\n",
        "n = Calcular_Sesiones(Dias_por_Toma, Actores_por_Toma)\n",
        "print(Dias_por_Toma)\n",
        "print(n)"
      ],
      "metadata": {
        "id": "GXefGno7bBf2",
        "outputId": "6f121d45-8b26-4564-af72-787f27a6d622",
        "colab": {
          "base_uri": "https://localhost:8080/"
        }
      },
      "execution_count": null,
      "outputs": [
        {
          "output_type": "stream",
          "name": "stdout",
          "text": [
            "[0, 1, 2, 3, 4, 5, 6, 7, 8, 9, 10, 11, 12, 13, 14, 15, 16, 17, 18, 19, 20, 21, 22, 23, 24, 25, 26, 27, 28, 29]\n",
            "94\n"
          ]
        }
      ]
    },
    {
      "cell_type": "markdown",
      "source": [],
      "metadata": {
        "id": "Q6h9EizNVIRq"
      }
    },
    {
      "cell_type": "markdown",
      "source": [
        "#Diseño\n",
        "- ¿Que técnica utilizo? ¿Por qué?"
      ],
      "metadata": {
        "id": "ixEJUwH_pv7M"
      }
    },
    {
      "cell_type": "code",
      "source": [
        "import random         #Para generar valores aleatorios\n",
        "\n",
        "#Respuesta\n",
        "def Get_Posibles_Hijos(Dias_Toma):\n",
        "  Hijos = []\n",
        "  long = len(Dias_Toma)\n",
        "  for i in range(long):\n",
        "    n = Dias_Toma.count(i)\n",
        "    if n < 6 and n > 0:\n",
        "      Hijos.append(i)\n",
        "  Hijos.append(long)\n",
        "  return Hijos\n",
        "\n",
        "def Crear_Solucion(N):\n",
        "  solucion = []\n",
        "  for i in range(N):\n",
        "    solucion.append(random.choice(Get_Posibles_Hijos(solucion)))\n",
        "  return solucion\n",
        "\n",
        "#Dia_por_Toma = [0, 1, 0, 2, 2]\n",
        "Dia_por_Toma = []\n",
        "print(Get_Posibles_Hijos(Dia_por_Toma))\n",
        "\n",
        "Solucion = Crear_Solucion(30)\n",
        "print(Solucion)\n",
        "print(tuple(set(Solucion)))"
      ],
      "metadata": {
        "id": "ZdKPjB9gp2BA",
        "colab": {
          "base_uri": "https://localhost:8080/"
        },
        "outputId": "c11112d2-a5fb-4a15-9f01-52bb08db4db7"
      },
      "execution_count": 17,
      "outputs": [
        {
          "output_type": "stream",
          "name": "stdout",
          "text": [
            "[0]\n",
            "[0, 1, 1, 0, 0, 1, 0, 0, 8, 1, 8, 0, 1, 1, 14, 15, 8, 15, 18, 8, 18, 8, 22, 22, 24, 8, 24, 27, 15, 24]\n",
            "(0, 1, 8, 14, 15, 18, 22, 24, 27)\n"
          ]
        }
      ]
    },
    {
      "cell_type": "code",
      "source": [
        "def Get_Posibles_Dias(Dias_Toma, nToma):\n",
        "  Posibles = []\n",
        "  dias = tuple(set(Dias_Toma))\n",
        "  for d in dias:\n",
        "    N = Dias_Toma.count(d)\n",
        "    if N < 6 and d != Dias_Toma[nToma]:\n",
        "      Posibles.append(d)\n",
        "  return Posibles\n",
        "\n",
        "Dia_por_Toma = [0, 1, 0, 2, 2, 0, 0, 0]\n",
        "Posibles_dias = Get_Posibles_Dias(Dia_por_Toma, 1)\n",
        "print(Posibles_dias)\n"
      ],
      "metadata": {
        "id": "f_qZXRH-A6Hm",
        "outputId": "9a21e0d2-97df-4682-e13c-aa7084afb18e",
        "colab": {
          "base_uri": "https://localhost:8080/"
        }
      },
      "execution_count": 23,
      "outputs": [
        {
          "output_type": "stream",
          "name": "stdout",
          "text": [
            "[0, 2]\n"
          ]
        }
      ]
    },
    {
      "cell_type": "markdown",
      "source": [
        "def Cambio_Dia("
      ],
      "metadata": {
        "id": "wOjM1micUe63"
      }
    },
    {
      "cell_type": "code",
      "source": [
        "def Cambio_Dia(Dias_Toma, nToma, nDia):\n",
        "  # Cambia la toma 'nToma' al días 'nDia'\n",
        "  if (nDia <= nToma):\n",
        "    Dias_Toma[nToma] = nDia\n",
        "  else:\n",
        "    Dias_Toma[nToma] = nToma\n",
        "    nP = -1\n",
        "    for i in range(nToma+1, len(Dias_Toma)):\n",
        "      if Dias_Toma[i] == nToma:\n",
        "        if nP < 0:\n",
        "          nP = i\n",
        "        Dias_Toma[i] = nP\n",
        "\n",
        "      if Dias_Toma[i] == nDia:\n",
        "        Dias_Toma[i] = nToma\n",
        "\n",
        "\n",
        "Dia_por_Toma = [0, 1, 2, 2, 0, 0, 0]\n",
        "\n",
        "Cambio_Dia(Dia_por_Toma, 0, 3)\n",
        "print(Dia_por_Toma)\n",
        "\n",
        "Get_Coste(Get_Actores_Dia([0, 0, 0], Actores_por_Toma))"
      ],
      "metadata": {
        "id": "3uwbeISDVIh_",
        "outputId": "b1b200dc-43db-4d85-9417-8278f58e7215",
        "colab": {
          "base_uri": "https://localhost:8080/"
        }
      },
      "execution_count": 61,
      "outputs": [
        {
          "output_type": "stream",
          "name": "stdout",
          "text": [
            "[0, 1, 2, 2, 4, 4, 4]\n"
          ]
        },
        {
          "output_type": "execute_result",
          "data": {
            "text/plain": [
              "6"
            ]
          },
          "metadata": {},
          "execution_count": 61
        }
      ]
    },
    {
      "cell_type": "code",
      "source": [
        "def genera_vecina(Dias_Toma, Actores_Toma):\n",
        "  mejor_solucion = []\n",
        "  mejor_coste = 10e100\n",
        "  for i in range(len(Dias_Toma)):\n",
        "    posibles = Get_Posibles_Dias(Dias_Toma, i)\n",
        "    for dia in posibles:\n",
        "      vecina = Dias_Toma.copy()\n",
        "      Cambio_Dia(vecina, i, dia)\n",
        "      vecina_coste = Get_Coste(Get_Actores_Dia(vecina, Actores_Toma))\n",
        "\n",
        "      if vecina_coste <= mejor_coste:\n",
        "        mejor_coste = vecina_coste\n",
        "        mejor_solucion = vecina\n",
        "  return mejor_solucion\n",
        "\n",
        "Dia_por_Toma = Crear_Solucion(len(Actores_por_Toma))\n",
        "print(Dia_por_Toma)\n",
        "print(\"Coste solución inicial: \", Get_Coste(Get_Actores_Dia(Dia_por_Toma, Actores_por_Toma)))\n",
        "\n",
        "nueva_solucion = genera_vecina(Dia_por_Toma, Actores_por_Toma)\n",
        "print(nueva_solucion)\n",
        "print(\"Coste solución vecina: \", Get_Coste(Get_Actores_Dia(nueva_solucion, Actores_por_Toma)))\n",
        "\n",
        "nueva_solucion = genera_vecina(nueva_solucion, Actores_por_Toma)\n",
        "print(nueva_solucion)\n",
        "print(\"Coste solución vecina: \", Get_Coste(Get_Actores_Dia(nueva_solucion, Actores_por_Toma)))"
      ],
      "metadata": {
        "id": "kwCq2Tu0kDxF",
        "outputId": "226e33f4-6a7e-4f57-f20e-23490fbbaa0b",
        "colab": {
          "base_uri": "https://localhost:8080/"
        }
      },
      "execution_count": 64,
      "outputs": [
        {
          "output_type": "stream",
          "name": "stdout",
          "text": [
            "[0, 0, 0, 0, 0, 5, 0, 5, 8, 5, 5, 8, 5, 8, 8, 8, 8, 5, 18, 19, 19, 21, 18, 21, 18, 21, 18, 19, 19, 19]\n",
            "Coste solución inicial:  41\n",
            "[0, 0, 0, 0, 0, 5, 0, 5, 8, 5, 5, 8, 5, 8, 8, 8, 8, 5, 18, 19, 19, 18, 18, 21, 18, 21, 18, 19, 19, 19]\n",
            "Coste solución vecina:  39\n",
            "[0, 0, 0, 0, 0, 5, 0, 5, 8, 5, 5, 8, 5, 8, 8, 8, 8, 5, 18, 19, 19, 18, 18, 18, 18, 18, 18, 19, 19, 19]\n",
            "Coste solución vecina:  36\n"
          ]
        }
      ]
    }
  ]
}