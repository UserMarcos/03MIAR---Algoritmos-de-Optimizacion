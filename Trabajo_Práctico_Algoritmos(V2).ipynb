{
  "nbformat": 4,
  "nbformat_minor": 0,
  "metadata": {
    "colab": {
      "provenance": [],
      "include_colab_link": true
    },
    "kernelspec": {
      "name": "python3",
      "display_name": "Python 3"
    }
  },
  "cells": [
    {
      "cell_type": "markdown",
      "metadata": {
        "id": "view-in-github",
        "colab_type": "text"
      },
      "source": [
        "<a href=\"https://colab.research.google.com/github/UserMarcos/03MIAR---Algoritmos-de-Optimizacion/blob/main/Trabajo_Pr%C3%A1ctico_Algoritmos(V2).ipynb\" target=\"_parent\"><img src=\"https://colab.research.google.com/assets/colab-badge.svg\" alt=\"Open In Colab\"/></a>"
      ]
    },
    {
      "cell_type": "markdown",
      "metadata": {
        "id": "hVbXYX-RfPWh"
      },
      "source": [
        "# Algoritmos de optimización - Trabajo Práctico<br>\n",
        "Nombre y Apellidos: Marcos Castro Castro  <br>\n",
        "Url: https://github.com/.../03MAIR---Algoritmos-de-Optimizacion---/tree/master/TrabajoPractico<br>\n",
        "Google Colab: https://colab.research.google.com/drive/xxxxxxxxxxxxxxxx <br>\n",
        "Problema:\n",
        ">1. Sesiones de doblaje <br>\n",
        ">2. Organizar los horarios de partidos de La Liga<br>\n",
        ">3. Configuración de Tribunales\n",
        "\n",
        "Descripción del problema:(copiar enunciado)\n",
        "\n",
        "## Problema 1. Organizar sesiones de doblaje(I)\n",
        "Se precisa coordinar el doblaje de una película. Los actores del doblaje deben coincidir en las tomas en las que sus personajes aparecen juntos en las diferentes tomas. Los actores de doblaje cobran todos la misma cantidad por cada día que deben desplazarse hasta el estudio de grabación independientemente del número de tomas que se graben. No es posible grabar más de 6 tomas por día. El objetivo es planificar las sesiones por día de manera que el gasto por los\n",
        "servicios de los actores de doblaje sea el menor posible. Los datos son:\n",
        "- Número de actores: 10\n",
        "- Número de tomas : 30\n",
        "- Actores/Tomas : https://bit.ly/36D8IuK\n",
        "  - 1 indica que el actor participa en la toma\n",
        "  - 0 en caso contrario"
      ]
    },
    {
      "cell_type": "markdown",
      "source": [
        "#Modelo\n",
        "- ¿Como represento el espacio de soluciones?\n",
        "- ¿Cual es la función objetivo?\n",
        "- ¿Como implemento las restricciones?"
      ],
      "metadata": {
        "id": "Sbo9IqQtpaHZ"
      }
    },
    {
      "cell_type": "markdown",
      "source": [],
      "metadata": {
        "id": "67p_vszBposu"
      }
    },
    {
      "cell_type": "markdown",
      "source": [
        "#Análisis\n",
        "- ¿Que complejidad tiene el problema?. Orden de complejidad y Contabilizar el espacio de soluciones"
      ],
      "metadata": {
        "id": "HZz52wOppp-U"
      }
    },
    {
      "cell_type": "code",
      "source": [
        "Numero = -1"
      ],
      "metadata": {
        "id": "xr8HHL8Wb1_e"
      },
      "execution_count": null,
      "outputs": []
    },
    {
      "cell_type": "code",
      "metadata": {
        "id": "AiskKkzZfy4e",
        "colab": {
          "base_uri": "https://localhost:8080/"
        },
        "outputId": "f6a238de-c5d1-4cfa-f77c-e178f8c486f7"
      },
      "source": [
        "# Creamos la tabla de tomas\n",
        "Numero_actores = 10\n",
        "\n",
        "Actores_por_Toma = [\n",
        "    {1, 2, 3, 4, 5},  # Toma 1\n",
        "    {3, 4, 5},        # Toma 2\n",
        "    {2, 5, 7},        # Toma 3\n",
        "    {1, 2, 7, 8},     # Toma 4\n",
        "    {2, 4, 8},        # Toma 5\n",
        "    {1, 2, 4, 5},     # Toma 6\n",
        "    {1, 2, 4, 5},     # Toma 7\n",
        "    {1, 2, 6},        # Toma 8\n",
        "    {1, 2, 4},        # Toma 9\n",
        "    {1, 2, 6, 9},     # Toma 10\n",
        "    {1, 2, 3, 5, 8},  # Toma 11\n",
        "    {1, 2, 3, 4, 6},  # Toma 12\n",
        "    {1, 4, 5},        # Toam 13\n",
        "    {1, 3, 6},        # Toma 14\n",
        "    {1, 2, 7},        # Toma 15\n",
        "    {4, 10},          # Toma 16\n",
        "    {1, 3},           # Toma 17\n",
        "    {3, 6},           # Toma 18\n",
        "    {1, 3},           # Toma 19\n",
        "    {1, 3, 4, 5},     # Toma 20\n",
        "    {6, 8},           # Toma 21\n",
        "    {1, 2, 3, 4},     # Toma 22\n",
        "    {1, 3},           # Toma 23\n",
        "    {3, 6},           # Toma 24\n",
        "    {1, 2, 4, 10},    # Toma 25\n",
        "    {1, 3, 5, 9},\n",
        "    {4, 5},\n",
        "    {1, 4},\n",
        "    {1, 5, 6},\n",
        "    {1, 4}\n",
        "    ]\n",
        "\n",
        "Actores_por_Toma"
      ],
      "execution_count": 35,
      "outputs": [
        {
          "output_type": "execute_result",
          "data": {
            "text/plain": [
              "[{1, 2, 3, 4, 5},\n",
              " {3, 4, 5},\n",
              " {2, 5, 7},\n",
              " {1, 2, 7, 8},\n",
              " {2, 4, 8},\n",
              " {1, 2, 4, 5},\n",
              " {1, 2, 4, 5},\n",
              " {1, 2, 6},\n",
              " {1, 2, 4},\n",
              " {1, 2, 6, 9},\n",
              " {1, 2, 3, 5, 8},\n",
              " {1, 2, 3, 4, 6},\n",
              " {1, 4, 5},\n",
              " {1, 3, 6},\n",
              " {1, 2, 7},\n",
              " {4, 10},\n",
              " {1, 3},\n",
              " {3, 6},\n",
              " {1, 3},\n",
              " {1, 3, 4, 5},\n",
              " {6, 8},\n",
              " {1, 2, 3, 4},\n",
              " {1, 3},\n",
              " {3, 6},\n",
              " {1, 2, 4, 10},\n",
              " {1, 3, 5, 9},\n",
              " {4, 5},\n",
              " {1, 4},\n",
              " {1, 5, 6},\n",
              " {1, 4}]"
            ]
          },
          "metadata": {},
          "execution_count": 35
        }
      ]
    },
    {
      "cell_type": "code",
      "source": [
        "Dia_por_Toma = [-1]*len(Actores_por_Toma)\n",
        "Dia_por_Toma"
      ],
      "metadata": {
        "id": "_7qzoPdWcpyr",
        "outputId": "31bc4eb4-f8a0-4590-fa3d-38af267356ea",
        "colab": {
          "base_uri": "https://localhost:8080/"
        }
      },
      "execution_count": 36,
      "outputs": [
        {
          "output_type": "execute_result",
          "data": {
            "text/plain": [
              "[-1,\n",
              " -1,\n",
              " -1,\n",
              " -1,\n",
              " -1,\n",
              " -1,\n",
              " -1,\n",
              " -1,\n",
              " -1,\n",
              " -1,\n",
              " -1,\n",
              " -1,\n",
              " -1,\n",
              " -1,\n",
              " -1,\n",
              " -1,\n",
              " -1,\n",
              " -1,\n",
              " -1,\n",
              " -1,\n",
              " -1,\n",
              " -1,\n",
              " -1,\n",
              " -1,\n",
              " -1,\n",
              " -1,\n",
              " -1,\n",
              " -1,\n",
              " -1,\n",
              " -1]"
            ]
          },
          "metadata": {},
          "execution_count": 36
        }
      ]
    },
    {
      "cell_type": "code",
      "source": [
        "N_Actores_por_toma = [len(x) for x in Actores_por_Toma]\n",
        "print(\"Actores por toma: \", N_Actores_por_toma)\n",
        "\n",
        "N_Tomas_por_actor = []\n",
        "for i in range(Numero_actores):\n",
        "  Numero_tomas = 0\n",
        "  for Toma in Actores_por_Toma:\n",
        "    if i+1 in Toma:\n",
        "      Numero_tomas = Numero_tomas + 1\n",
        "  N_Tomas_por_actor.append(Numero_tomas)\n",
        "\n",
        "print(\"Tomas por actor: \", N_Tomas_por_actor)"
      ],
      "metadata": {
        "id": "CZ-5BmpspttV",
        "colab": {
          "base_uri": "https://localhost:8080/"
        },
        "outputId": "db6faf54-4686-4db8-8229-b1e4516e2813"
      },
      "execution_count": 37,
      "outputs": [
        {
          "output_type": "stream",
          "name": "stdout",
          "text": [
            "Actores por toma:  [5, 3, 3, 4, 3, 4, 4, 3, 3, 4, 5, 5, 3, 3, 3, 2, 2, 2, 2, 4, 2, 4, 2, 2, 4, 4, 2, 2, 3, 2]\n",
            "Tomas por actor:  [22, 14, 13, 15, 11, 8, 3, 4, 2, 2]\n"
          ]
        }
      ]
    },
    {
      "cell_type": "code",
      "source": [
        "def Get_Actores_Dia(Tomas):\n",
        "  Actores_Dia = dict()\n",
        "  for Toma in Tomas:\n",
        "    Numero_dia = Toma['Dia']\n",
        "    if Numero_dia < 0:\n",
        "      pass\n",
        "    elif Numero_dia in Actores_Dia:\n",
        "      Actores_Dia[Numero_dia].update(Toma['Actores'])\n",
        "    else:\n",
        "      Actores_Dia[Numero_dia] = Toma['Actores']\n",
        "  return Actores_Dia\n",
        "\n",
        "def Get_Gasto(Actores_Dia):\n",
        "  Gasto = 0\n",
        "  for Dia in Actores_Dia:\n",
        "    Gasto = Gasto + len(Actores_Dia[Dia])\n",
        "  return Gasto\n",
        "\n",
        "Tomas[4]['Dia'] = 2\n",
        "Tomas[1]['Dia'] = 1\n",
        "print(Tomas)\n",
        "Actores_Dia = Get_Actores_Dia(Tomas)\n",
        "print(Actores_Dia)\n",
        "print(Get_Gasto(Actores_Dia))"
      ],
      "metadata": {
        "id": "uNwGHVELVLqU",
        "outputId": "759233e4-77c5-4382-fb0a-bfa263397425",
        "colab": {
          "base_uri": "https://localhost:8080/"
        }
      },
      "execution_count": 34,
      "outputs": [
        {
          "output_type": "stream",
          "name": "stdout",
          "text": [
            "[{'Actores': {1, 2, 3, 4, 5}, 'Dia': -1}, {'Actores': {3, 4, 5}, 'Dia': 1}, {'Actores': {2, 5, 7}, 'Dia': -1}, {'Actores': {8, 1, 2, 7}, 'Dia': -1}, {'Actores': {8, 2, 4}, 'Dia': 2}, {'Actores': {1, 2, 4, 5}, 'Dia': -1}, {'Actores': {1, 2, 4, 5}, 'Dia': -1}, {'Actores': {1, 2, 6}, 'Dia': -1}, {'Actores': {1, 2, 4}, 'Dia': -1}, {'Actores': {1, 2, 6, 9}, 'Dia': -1}, {'Actores': {1, 2, 3, 5, 8}, 'Dia': -1}, {'Actores': {1, 2, 3, 4, 6}, 'Dia': -1}, {'Actores': {1, 4, 5}, 'Dia': -1}, {'Actores': {1, 3, 6}, 'Dia': -1}, {'Actores': {1, 2, 7}, 'Dia': -1}, {'Actores': {10, 4}, 'Dia': -1}, {'Actores': {1, 3}, 'Dia': -1}, {'Actores': {3, 6}, 'Dia': -1}, {'Actores': {1, 3}, 'Dia': -1}, {'Actores': {1, 3, 4, 5}, 'Dia': -1}, {'Actores': {8, 6}, 'Dia': -1}, {'Actores': {1, 2, 3, 4}, 'Dia': -1}, {'Actores': {1, 3}, 'Dia': -1}, {'Actores': {3, 6}, 'Dia': -1}, {'Actores': {1, 2, 10, 4}, 'Dia': -1}, {'Actores': {1, 3, 5, 9}, 'Dia': -1}, {'Actores': {4, 5}, 'Dia': -1}, {'Actores': {1, 4}, 'Dia': -1}, {'Actores': {1, 5, 6}, 'Dia': -1}, {'Actores': {1, 4}, 'Dia': -1}]\n",
            "{1: {3, 4, 5}, 2: {8, 2, 4}}\n",
            "6\n"
          ]
        }
      ]
    },
    {
      "cell_type": "code",
      "source": [],
      "metadata": {
        "id": "GXefGno7bBf2"
      },
      "execution_count": null,
      "outputs": []
    },
    {
      "cell_type": "markdown",
      "source": [],
      "metadata": {
        "id": "Q6h9EizNVIRq"
      }
    },
    {
      "cell_type": "markdown",
      "source": [
        "#Diseño\n",
        "- ¿Que técnica utilizo? ¿Por qué?"
      ],
      "metadata": {
        "id": "ixEJUwH_pv7M"
      }
    },
    {
      "cell_type": "code",
      "source": [
        "#Respuesta"
      ],
      "metadata": {
        "id": "ZdKPjB9gp2BA"
      },
      "execution_count": null,
      "outputs": []
    }
  ]
}