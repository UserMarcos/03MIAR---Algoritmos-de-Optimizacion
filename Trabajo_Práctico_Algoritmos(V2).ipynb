{
  "nbformat": 4,
  "nbformat_minor": 0,
  "metadata": {
    "colab": {
      "provenance": [],
      "include_colab_link": true
    },
    "kernelspec": {
      "name": "python3",
      "display_name": "Python 3"
    }
  },
  "cells": [
    {
      "cell_type": "markdown",
      "metadata": {
        "id": "view-in-github",
        "colab_type": "text"
      },
      "source": [
        "<a href=\"https://colab.research.google.com/github/UserMarcos/03MIAR---Algoritmos-de-Optimizacion/blob/main/Trabajo_Pr%C3%A1ctico_Algoritmos(V2).ipynb\" target=\"_parent\"><img src=\"https://colab.research.google.com/assets/colab-badge.svg\" alt=\"Open In Colab\"/></a>"
      ]
    },
    {
      "cell_type": "markdown",
      "metadata": {
        "id": "hVbXYX-RfPWh"
      },
      "source": [
        "# Algoritmos de optimización - Trabajo Práctico<br>\n",
        "Nombre y Apellidos: Marcos Castro Castro  <br>\n",
        "Url: https://github.com/.../03MAIR---Algoritmos-de-Optimizacion---/tree/master/TrabajoPractico<br>\n",
        "Google Colab: https://colab.research.google.com/drive/xxxxxxxxxxxxxxxx <br>\n",
        "Problema:\n",
        ">1. Sesiones de doblaje <br>\n",
        ">2. Organizar los horarios de partidos de La Liga<br>\n",
        ">3. Configuración de Tribunales\n",
        "\n",
        "Descripción del problema:(copiar enunciado)\n",
        "\n",
        "## Problema 1. Organizar sesiones de doblaje(I)\n",
        "Se precisa coordinar el doblaje de una película. Los actores del doblaje deben coincidir en las tomas en las que sus personajes aparecen juntos en las diferentes tomas. Los actores de doblaje cobran todos la misma cantidad por cada día que deben desplazarse hasta el estudio de grabación independientemente del número de tomas que se graben. No es posible grabar más de 6 tomas por día. El objetivo es planificar las sesiones por día de manera que el gasto por los\n",
        "servicios de los actores de doblaje sea el menor posible. Los datos son:\n",
        "- Número de actores: 10\n",
        "- Número de tomas : 30\n",
        "- Actores/Tomas : https://bit.ly/36D8IuK\n",
        "  - 1 indica que el actor participa en la toma\n",
        "  - 0 en caso contrario"
      ]
    },
    {
      "cell_type": "markdown",
      "source": [
        "#Modelo\n",
        "- ¿Como represento el espacio de soluciones?\n",
        "- ¿Cual es la función objetivo?\n",
        "- ¿Como implemento las restricciones?"
      ],
      "metadata": {
        "id": "Sbo9IqQtpaHZ"
      }
    },
    {
      "cell_type": "markdown",
      "source": [],
      "metadata": {
        "id": "67p_vszBposu"
      }
    },
    {
      "cell_type": "markdown",
      "source": [
        "#Análisis\n",
        "- ¿Que complejidad tiene el problema?. Orden de complejidad y Contabilizar el espacio de soluciones"
      ],
      "metadata": {
        "id": "HZz52wOppp-U"
      }
    },
    {
      "cell_type": "code",
      "metadata": {
        "id": "AiskKkzZfy4e",
        "colab": {
          "base_uri": "https://localhost:8080/"
        },
        "outputId": "a93b8be7-4e7a-47f4-97e3-37d9a23091ed"
      },
      "source": [
        "# Creamos la tabla de tomas\n",
        "Numero_actores = 10\n",
        "\n",
        "Actores_por_Toma = [\n",
        "    {1, 2, 3, 4, 5},  # Toma 1\n",
        "    {3, 4, 5},        # Toma 2\n",
        "    {2, 5, 7},        # Toma 3\n",
        "    {1, 2, 7, 8},     # Toma 4\n",
        "    {2, 4, 8},        # Toma 5\n",
        "    {1, 2, 4, 5},     # Toma 6\n",
        "    {1, 2, 4, 5},     # Toma 7\n",
        "    {1, 2, 6},        # Toma 8\n",
        "    {1, 2, 4},        # Toma 9\n",
        "    {1, 2, 6, 9},     # Toma 10\n",
        "    {1, 2, 3, 5, 8},  # Toma 11\n",
        "    {1, 2, 3, 4, 6},  # Toma 12\n",
        "    {1, 4, 5},        # Toam 13\n",
        "    {1, 3, 6},        # Toma 14\n",
        "    {1, 2, 7},        # Toma 15\n",
        "    {4, 10},          # Toma 16\n",
        "    {1, 3},           # Toma 17\n",
        "    {3, 6},           # Toma 18\n",
        "    {1, 3},           # Toma 19\n",
        "    {1, 3, 4, 5},     # Toma 20\n",
        "    {6, 8},           # Toma 21\n",
        "    {1, 2, 3, 4},     # Toma 22\n",
        "    {1, 3},           # Toma 23\n",
        "    {3, 6},           # Toma 24\n",
        "    {1, 2, 4, 10},    # Toma 25\n",
        "    {1, 3, 5, 9},\n",
        "    {4, 5},\n",
        "    {1, 4},\n",
        "    {1, 5, 6},\n",
        "    {1, 4}\n",
        "    ]\n",
        "\n",
        "Actores_por_Toma"
      ],
      "execution_count": 2,
      "outputs": [
        {
          "output_type": "execute_result",
          "data": {
            "text/plain": [
              "[{1, 2, 3, 4, 5},\n",
              " {3, 4, 5},\n",
              " {2, 5, 7},\n",
              " {1, 2, 7, 8},\n",
              " {2, 4, 8},\n",
              " {1, 2, 4, 5},\n",
              " {1, 2, 4, 5},\n",
              " {1, 2, 6},\n",
              " {1, 2, 4},\n",
              " {1, 2, 6, 9},\n",
              " {1, 2, 3, 5, 8},\n",
              " {1, 2, 3, 4, 6},\n",
              " {1, 4, 5},\n",
              " {1, 3, 6},\n",
              " {1, 2, 7},\n",
              " {4, 10},\n",
              " {1, 3},\n",
              " {3, 6},\n",
              " {1, 3},\n",
              " {1, 3, 4, 5},\n",
              " {6, 8},\n",
              " {1, 2, 3, 4},\n",
              " {1, 3},\n",
              " {3, 6},\n",
              " {1, 2, 4, 10},\n",
              " {1, 3, 5, 9},\n",
              " {4, 5},\n",
              " {1, 4},\n",
              " {1, 5, 6},\n",
              " {1, 4}]"
            ]
          },
          "metadata": {},
          "execution_count": 2
        }
      ]
    },
    {
      "cell_type": "code",
      "source": [
        "Dia_por_Toma = []\n",
        "Dia_por_Toma"
      ],
      "metadata": {
        "id": "_7qzoPdWcpyr",
        "outputId": "90038152-d9aa-4ed7-fff2-33d31d2c76e4",
        "colab": {
          "base_uri": "https://localhost:8080/"
        }
      },
      "execution_count": null,
      "outputs": [
        {
          "output_type": "execute_result",
          "data": {
            "text/plain": [
              "[]"
            ]
          },
          "metadata": {},
          "execution_count": 25
        }
      ]
    },
    {
      "cell_type": "code",
      "source": [
        "N_Actores_por_toma = [len(x) for x in Actores_por_Toma]\n",
        "print(\"Número de actores por toma: \", N_Actores_por_toma)\n",
        "\n",
        "N_Tomas_por_actor = []\n",
        "for i in range(Numero_actores):\n",
        "  Numero_tomas = 0\n",
        "  for Toma in Actores_por_Toma:\n",
        "    if i+1 in Toma:\n",
        "      Numero_tomas = Numero_tomas + 1\n",
        "  N_Tomas_por_actor.append(Numero_tomas)\n",
        "\n",
        "print(\"Número de tomas por actor: \", N_Tomas_por_actor)"
      ],
      "metadata": {
        "id": "CZ-5BmpspttV",
        "colab": {
          "base_uri": "https://localhost:8080/"
        },
        "outputId": "f8d35748-fd29-4e80-f421-610b18b22fd1"
      },
      "execution_count": 3,
      "outputs": [
        {
          "output_type": "stream",
          "name": "stdout",
          "text": [
            "Número de actores por toma:  [5, 3, 3, 4, 3, 4, 4, 3, 3, 4, 5, 5, 3, 3, 3, 2, 2, 2, 2, 4, 2, 4, 2, 2, 4, 4, 2, 2, 3, 2]\n",
            "Número de tomas por actor:  [22, 14, 13, 15, 11, 8, 3, 4, 2, 2]\n"
          ]
        }
      ]
    },
    {
      "cell_type": "code",
      "source": [
        "def Get_Actores_Dia(Dias_Toma, Actores_Toma):\n",
        "  Actores_Dia = dict()\n",
        "  for i in range(len(Dias_Toma)):\n",
        "    N_Dia = Dias_Toma[i]\n",
        "    if  N_Dia in Actores_Dia:\n",
        "      Actores_Dia[N_Dia].update(Actores_Toma[i])\n",
        "    else:\n",
        "      Actores_Dia[N_Dia] = Actores_Toma[i].copy()\n",
        "  return Actores_Dia\n",
        "\n",
        "Dia_por_Toma = [0, 1, 0, 2, 2]\n",
        "print(Dia_por_Toma)\n",
        "print(Actores_por_Toma)\n",
        "Actores_Dia = Get_Actores_Dia(Dia_por_Toma, Actores_por_Toma)\n",
        "Actores_Dia"
      ],
      "metadata": {
        "id": "uNwGHVELVLqU",
        "outputId": "de889939-f452-45e5-85e5-b4ef4a8c6ed3",
        "colab": {
          "base_uri": "https://localhost:8080/"
        }
      },
      "execution_count": 4,
      "outputs": [
        {
          "output_type": "stream",
          "name": "stdout",
          "text": [
            "[0, 1, 0, 2, 2]\n",
            "[{1, 2, 3, 4, 5}, {3, 4, 5}, {2, 5, 7}, {8, 1, 2, 7}, {8, 2, 4}, {1, 2, 4, 5}, {1, 2, 4, 5}, {1, 2, 6}, {1, 2, 4}, {1, 2, 6, 9}, {1, 2, 3, 5, 8}, {1, 2, 3, 4, 6}, {1, 4, 5}, {1, 3, 6}, {1, 2, 7}, {10, 4}, {1, 3}, {3, 6}, {1, 3}, {1, 3, 4, 5}, {8, 6}, {1, 2, 3, 4}, {1, 3}, {3, 6}, {1, 2, 10, 4}, {1, 3, 5, 9}, {4, 5}, {1, 4}, {1, 5, 6}, {1, 4}]\n"
          ]
        },
        {
          "output_type": "execute_result",
          "data": {
            "text/plain": [
              "{0: {1, 2, 3, 4, 5, 7}, 1: {3, 4, 5}, 2: {1, 2, 4, 7, 8}}"
            ]
          },
          "metadata": {},
          "execution_count": 4
        }
      ]
    },
    {
      "cell_type": "code",
      "source": [
        "def Get_Coste(Actores_Dia):\n",
        "  Coste = 0\n",
        "  for Dia in Actores_Dia:\n",
        "    Coste += len(Actores_Dia[Dia])\n",
        "  return Coste\n",
        "\n",
        "def Get_Coste_Inf(Dias_Toma, Actores_Toma):\n",
        "  Valor = Get_Coste(Get_Actores_Dia(Dias_Toma, Actores_Toma))\n",
        "  return Valor\n",
        "\n",
        "def Get_Coste_Sup(Dias_Toma, Actores_Toma):\n",
        "  Valor = Get_Coste(Get_Actores_Dia(Dias_Toma, Actores_Toma))\n",
        "\n",
        "  # Estimación\n",
        "  for i in range(len(Dias_Toma), len(Actores_Toma)):\n",
        "    Valor += len(Actores_Toma)\n",
        "  return Valor\n",
        "\n",
        "print(Get_Coste(Actores_Dia))\n",
        "\n",
        "print(Get_Coste_Sup(Dia_por_Toma, Actores_por_Toma))"
      ],
      "metadata": {
        "id": "Rqs-F5GtGNek",
        "outputId": "d84c81bf-1c54-4f76-e4a2-c32471a722fe",
        "colab": {
          "base_uri": "https://localhost:8080/"
        }
      },
      "execution_count": 5,
      "outputs": [
        {
          "output_type": "stream",
          "name": "stdout",
          "text": [
            "14\n",
            "764\n"
          ]
        }
      ]
    },
    {
      "cell_type": "code",
      "source": [
        "def Crear_Hijos(Nodo):\n",
        "  Hijos = []\n",
        "  long = len(Nodo)\n",
        "  for i in range(long):\n",
        "    n = Nodo.count(i)\n",
        "    if n < 6 and n > 0:\n",
        "      Hijos.append({'s':Nodo +(i,)})\n",
        "  Hijos.append({'s':Nodo +(long,)})\n",
        "  return Hijos\n",
        "\n",
        "Crear_Hijos((0, 0, 2))"
      ],
      "metadata": {
        "colab": {
          "base_uri": "https://localhost:8080/"
        },
        "id": "4QnkMA4oAKZy",
        "outputId": "9a5f12e1-f02b-4b89-d929-440fb95d99b3"
      },
      "execution_count": 6,
      "outputs": [
        {
          "output_type": "execute_result",
          "data": {
            "text/plain": [
              "[{'s': (0, 0, 2, 0)}, {'s': (0, 0, 2, 2)}, {'s': (0, 0, 2, 3)}]"
            ]
          },
          "metadata": {},
          "execution_count": 6
        }
      ]
    },
    {
      "cell_type": "code",
      "source": [
        "def Calcular_Sesiones(Actores_Toma):\n",
        "  Dimension = len(Actores_Toma)\n",
        "  Mejor_Solucion = tuple(i for i in range(len(Actores_Toma)))\n",
        "  CotaSup = Get_Coste(Get_Actores_Dia(Mejor_Solucion, Actores_Toma))\n",
        "  print(\"Cota Superior:\", CotaSup)\n",
        "\n",
        "  Nodos = []\n",
        "  Nodos.append({'s':(), 'ci':Get_Coste_Inf((), Actores_Toma)})\n",
        "  print(\"Nodos: \", Nodos)\n",
        "\n",
        "  iteracion = 0\n",
        "\n",
        "  while(len(Nodos) > 0 and iteracion < 20000000):\n",
        "    iteracion +=1\n",
        "    #print(\"Iteración \", iteracion)\n",
        "\n",
        "    #Nodo_Prometedor = [ min(Nodos, key=lambda x:x['ci']) ][0]['s']\n",
        "    Nodo_Prometedor = [ max(Nodos, key=lambda x:len(x['s'])) ][0]['s']\n",
        "    #print(\"  Nodo prometedor:\", Nodo_Prometedor)\n",
        "\n",
        "    Hijos = [ {'s':x['s'], 'ci':Get_Coste_Inf(x['s'], Actores_Toma)   } for x in Crear_Hijos(Nodo_Prometedor) ]\n",
        "    #print(\"  Hijos : \", Hijos)\n",
        "\n",
        "    Nodo_Final = [x for x in Hijos if len(x['s']) == Dimension  ]\n",
        "    if len(Nodo_Final) > 0:\n",
        "      print(\"  **Soluciones:\",  Nodo_Final )\n",
        "      if Nodo_Final[0]['ci'] < CotaSup:\n",
        "        CotaSup = Nodo_Final[0]['ci']\n",
        "        Mejor_Solucion = Nodo_Final\n",
        "        print(\"  ****Mejor solución, Cota Superior:\", CotaSup)\n",
        "\n",
        "    Nodos.extend(Hijos)\n",
        "    Nodos = [x for x in Nodos if x['ci'] < CotaSup]\n",
        "    Nodos = [x for x in Nodos if x['s'] != Nodo_Prometedor]\n",
        "    #print(\"  Nodos: \", Nodos)\n",
        "\n",
        "  print(\"La solucion final es:\" ,Mejor_Solucion , \" en \" , iteracion , \" iteraciones\" , \" para dimension: \" ,Dimension)\n",
        "\n",
        "\n",
        "Calcular_Sesiones(Actores_por_Toma)"
      ],
      "metadata": {
        "id": "GXefGno7bBf2",
        "outputId": "a8d85175-ea35-4fe0-ea30-7f206e7f5968",
        "colab": {
          "base_uri": "https://localhost:8080/"
        }
      },
      "execution_count": 15,
      "outputs": [
        {
          "output_type": "stream",
          "name": "stdout",
          "text": [
            "Cota Superior: 94\n",
            "Nodos:  [{'s': (), 'ci': 0}]\n",
            "  **Soluciones: [{'s': (0, 0, 0, 0, 0, 0, 6, 6, 6, 6, 6, 6, 12, 12, 12, 12, 12, 12, 18, 18, 18, 18, 18, 18, 24, 24, 24, 24, 24, 24), 'ci': 38}, {'s': (0, 0, 0, 0, 0, 0, 6, 6, 6, 6, 6, 6, 12, 12, 12, 12, 12, 12, 18, 18, 18, 18, 18, 18, 24, 24, 24, 24, 24, 29), 'ci': 40}]\n",
            "  ****Mejor solución, Cota Superior: 38\n",
            "  **Soluciones: [{'s': (0, 0, 0, 0, 0, 0, 6, 6, 6, 6, 6, 6, 12, 12, 12, 12, 12, 12, 18, 18, 18, 18, 18, 23, 18, 23, 23, 23, 23, 23), 'ci': 37}, {'s': (0, 0, 0, 0, 0, 0, 6, 6, 6, 6, 6, 6, 12, 12, 12, 12, 12, 12, 18, 18, 18, 18, 18, 23, 18, 23, 23, 23, 23, 29), 'ci': 39}]\n",
            "  ****Mejor solución, Cota Superior: 37\n",
            "  **Soluciones: [{'s': (0, 0, 0, 0, 0, 0, 6, 6, 6, 6, 6, 6, 12, 12, 12, 12, 12, 12, 18, 18, 18, 21, 18, 18, 21, 21, 21, 21, 18, 21), 'ci': 36}, {'s': (0, 0, 0, 0, 0, 0, 6, 6, 6, 6, 6, 6, 12, 12, 12, 12, 12, 12, 18, 18, 18, 21, 18, 18, 21, 21, 21, 21, 18, 29), 'ci': 38}]\n",
            "  ****Mejor solución, Cota Superior: 36\n",
            "  **Soluciones: [{'s': (0, 0, 0, 0, 0, 0, 6, 6, 6, 6, 6, 6, 12, 12, 12, 12, 12, 12, 18, 18, 20, 18, 20, 20, 18, 20, 18, 18, 20, 20), 'ci': 36}, {'s': (0, 0, 0, 0, 0, 0, 6, 6, 6, 6, 6, 6, 12, 12, 12, 12, 12, 12, 18, 18, 20, 18, 20, 20, 18, 20, 18, 18, 20, 29), 'ci': 37}]\n",
            "  **Soluciones: [{'s': (0, 0, 0, 0, 0, 0, 6, 6, 6, 6, 6, 6, 12, 12, 12, 12, 12, 12, 18, 19, 18, 19, 18, 18, 19, 18, 19, 19, 18, 19), 'ci': 35}, {'s': (0, 0, 0, 0, 0, 0, 6, 6, 6, 6, 6, 6, 12, 12, 12, 12, 12, 12, 18, 19, 18, 19, 18, 18, 19, 18, 19, 19, 18, 29), 'ci': 37}]\n",
            "  ****Mejor solución, Cota Superior: 35\n",
            "  **Soluciones: [{'s': (0, 0, 0, 0, 0, 0, 6, 6, 6, 6, 6, 6, 12, 12, 12, 12, 12, 17, 17, 19, 17, 19, 17, 17, 12, 19, 19, 19, 17, 19), 'ci': 34}, {'s': (0, 0, 0, 0, 0, 0, 6, 6, 6, 6, 6, 6, 12, 12, 12, 12, 12, 17, 17, 19, 17, 19, 17, 17, 12, 19, 19, 19, 17, 29), 'ci': 36}]\n",
            "  ****Mejor solución, Cota Superior: 34\n",
            "  **Soluciones: [{'s': (0, 0, 0, 0, 0, 0, 6, 6, 6, 6, 6, 6, 12, 12, 12, 12, 16, 16, 16, 19, 16, 12, 16, 16, 12, 19, 19, 19, 19, 19), 'ci': 33}, {'s': (0, 0, 0, 0, 0, 0, 6, 6, 6, 6, 6, 6, 12, 12, 12, 12, 16, 16, 16, 19, 16, 12, 16, 16, 12, 19, 19, 19, 19, 29), 'ci': 35}]\n",
            "  ****Mejor solución, Cota Superior: 33\n",
            "  **Soluciones: [{'s': (0, 0, 0, 0, 0, 0, 6, 6, 6, 6, 6, 6, 12, 12, 14, 14, 12, 12, 14, 12, 20, 14, 20, 20, 14, 20, 12, 14, 20, 20), 'ci': 33}, {'s': (0, 0, 0, 0, 0, 0, 6, 6, 6, 6, 6, 6, 12, 12, 14, 14, 12, 12, 14, 12, 20, 14, 20, 20, 14, 20, 12, 14, 20, 29), 'ci': 34}]\n",
            "  **Soluciones: [{'s': (0, 0, 0, 0, 0, 0, 6, 6, 6, 6, 6, 6, 12, 12, 14, 14, 12, 12, 18, 12, 18, 14, 14, 18, 14, 18, 12, 14, 18, 18), 'ci': 33}, {'s': (0, 0, 0, 0, 0, 0, 6, 6, 6, 6, 6, 6, 12, 12, 14, 14, 12, 12, 18, 12, 18, 14, 14, 18, 14, 18, 12, 14, 18, 29), 'ci': 34}]\n",
            "  **Soluciones: [{'s': (0, 0, 0, 0, 0, 0, 6, 6, 6, 6, 6, 6, 12, 12, 14, 14, 12, 12, 18, 12, 18, 14, 18, 18, 14, 18, 12, 14, 18, 14), 'ci': 32}, {'s': (0, 0, 0, 0, 0, 0, 6, 6, 6, 6, 6, 6, 12, 12, 14, 14, 12, 12, 18, 12, 18, 14, 18, 18, 14, 18, 12, 14, 18, 29), 'ci': 34}]\n",
            "  ****Mejor solución, Cota Superior: 32\n",
            "  **Soluciones: [{'s': (0, 0, 0, 0, 0, 0, 6, 6, 6, 6, 6, 6, 12, 12, 14, 14, 14, 17, 17, 12, 17, 14, 17, 17, 14, 12, 12, 14, 12, 17), 'ci': 32}, {'s': (0, 0, 0, 0, 0, 0, 6, 6, 6, 6, 6, 6, 12, 12, 14, 14, 14, 17, 17, 12, 17, 14, 17, 17, 14, 12, 12, 14, 12, 29), 'ci': 33}]\n",
            "  **Soluciones: [{'s': (0, 0, 0, 0, 0, 0, 6, 6, 6, 6, 6, 6, 12, 12, 14, 14, 16, 16, 14, 12, 16, 14, 16, 16, 14, 12, 12, 14, 12, 16), 'ci': 32}, {'s': (0, 0, 0, 0, 0, 0, 6, 6, 6, 6, 6, 6, 12, 12, 14, 14, 16, 16, 14, 12, 16, 14, 16, 16, 14, 12, 12, 14, 12, 29), 'ci': 33}]\n",
            "  **Soluciones: [{'s': (0, 0, 0, 0, 0, 0, 6, 6, 6, 6, 6, 6, 12, 12, 14, 14, 16, 16, 16, 12, 16, 14, 14, 16, 14, 12, 12, 14, 12, 16), 'ci': 32}, {'s': (0, 0, 0, 0, 0, 0, 6, 6, 6, 6, 6, 6, 12, 12, 14, 14, 16, 16, 16, 12, 16, 14, 14, 16, 14, 12, 12, 14, 12, 29), 'ci': 33}]\n",
            "  **Soluciones: [{'s': (0, 0, 0, 0, 0, 0, 6, 6, 6, 6, 6, 6, 12, 12, 14, 14, 16, 16, 16, 12, 16, 14, 16, 16, 14, 12, 12, 14, 12, 14), 'ci': 31}, {'s': (0, 0, 0, 0, 0, 0, 6, 6, 6, 6, 6, 6, 12, 12, 14, 14, 16, 16, 16, 12, 16, 14, 16, 16, 14, 12, 12, 14, 12, 29), 'ci': 33}]\n",
            "  ****Mejor solución, Cota Superior: 31\n",
            "  **Soluciones: [{'s': (0, 0, 0, 0, 0, 0, 6, 6, 6, 6, 10, 6, 10, 13, 14, 14, 13, 13, 13, 10, 10, 10, 13, 13, 14, 6, 14, 14, 10, 14), 'ci': 30}, {'s': (0, 0, 0, 0, 0, 0, 6, 6, 6, 6, 10, 6, 10, 13, 14, 14, 13, 13, 13, 10, 10, 10, 13, 13, 14, 6, 14, 14, 10, 29), 'ci': 32}]\n",
            "  ****Mejor solución, Cota Superior: 30\n",
            "  **Soluciones: [{'s': (0, 0, 0, 0, 0, 0, 6, 6, 6, 9, 9, 6, 12, 9, 12, 12, 16, 16, 16, 6, 9, 6, 16, 16, 12, 9, 12, 12, 9, 16), 'ci': 30}, {'s': (0, 0, 0, 0, 0, 0, 6, 6, 6, 9, 9, 6, 12, 9, 12, 12, 16, 16, 16, 6, 9, 6, 16, 16, 12, 9, 12, 12, 9, 29), 'ci': 31}]\n",
            "  **Soluciones: [{'s': (0, 0, 0, 0, 0, 0, 6, 6, 6, 9, 9, 6, 12, 13, 9, 12, 13, 13, 13, 6, 9, 6, 13, 13, 12, 9, 12, 12, 9, 12), 'ci': 29}, {'s': (0, 0, 0, 0, 0, 0, 6, 6, 6, 9, 9, 6, 12, 13, 9, 12, 13, 13, 13, 6, 9, 6, 13, 13, 12, 9, 12, 12, 9, 29), 'ci': 31}]\n",
            "  ****Mejor solución, Cota Superior: 29\n",
            "  **Soluciones: [{'s': (0, 0, 0, 0, 0, 0, 6, 7, 8, 7, 7, 6, 6, 13, 8, 8, 13, 13, 13, 6, 7, 6, 13, 13, 8, 7, 6, 8, 7, 8), 'ci': 28}, {'s': (0, 0, 0, 0, 0, 0, 6, 7, 8, 7, 7, 6, 6, 13, 8, 8, 13, 13, 13, 6, 7, 6, 13, 13, 8, 7, 6, 8, 7, 29), 'ci': 30}]\n",
            "  ****Mejor solución, Cota Superior: 28\n",
            "La solucion final es: [{'s': (0, 0, 0, 0, 0, 0, 6, 7, 8, 7, 7, 6, 6, 13, 8, 8, 13, 13, 13, 6, 7, 6, 13, 13, 8, 7, 6, 8, 7, 8), 'ci': 28}, {'s': (0, 0, 0, 0, 0, 0, 6, 7, 8, 7, 7, 6, 6, 13, 8, 8, 13, 13, 13, 6, 7, 6, 13, 13, 8, 7, 6, 8, 7, 29), 'ci': 30}]  en  20000000  iteraciones  para dimension:  30\n"
          ]
        }
      ]
    },
    {
      "cell_type": "markdown",
      "source": [],
      "metadata": {
        "id": "Q6h9EizNVIRq"
      }
    },
    {
      "cell_type": "markdown",
      "source": [
        "#Diseño\n",
        "- ¿Que técnica utilizo? ¿Por qué?"
      ],
      "metadata": {
        "id": "ixEJUwH_pv7M"
      }
    },
    {
      "cell_type": "code",
      "source": [
        "#Respuesta"
      ],
      "metadata": {
        "id": "ZdKPjB9gp2BA"
      },
      "execution_count": null,
      "outputs": []
    }
  ]
}