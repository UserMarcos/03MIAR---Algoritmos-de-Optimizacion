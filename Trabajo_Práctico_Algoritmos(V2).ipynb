{
  "nbformat": 4,
  "nbformat_minor": 0,
  "metadata": {
    "colab": {
      "provenance": [],
      "include_colab_link": true
    },
    "kernelspec": {
      "name": "python3",
      "display_name": "Python 3"
    }
  },
  "cells": [
    {
      "cell_type": "markdown",
      "metadata": {
        "id": "view-in-github",
        "colab_type": "text"
      },
      "source": [
        "<a href=\"https://colab.research.google.com/github/UserMarcos/03MIAR---Algoritmos-de-Optimizacion/blob/main/Trabajo_Pr%C3%A1ctico_Algoritmos(V2).ipynb\" target=\"_parent\"><img src=\"https://colab.research.google.com/assets/colab-badge.svg\" alt=\"Open In Colab\"/></a>"
      ]
    },
    {
      "cell_type": "markdown",
      "metadata": {
        "id": "hVbXYX-RfPWh"
      },
      "source": [
        "# Algoritmos de optimización - Trabajo Práctico<br>\n",
        "Nombre y Apellidos: Marcos Castro Castro  <br>\n",
        "Url: https://github.com/.../03MAIR---Algoritmos-de-Optimizacion---/tree/master/TrabajoPractico<br>\n",
        "Google Colab: https://colab.research.google.com/drive/xxxxxxxxxxxxxxxx <br>\n",
        "Problema:\n",
        ">1. Sesiones de doblaje <br>\n",
        ">2. Organizar los horarios de partidos de La Liga<br>\n",
        ">3. Configuración de Tribunales\n",
        "\n",
        "Descripción del problema:(copiar enunciado)\n",
        "\n",
        "## Problema 1. Organizar sesiones de doblaje(I)\n",
        "Se precisa coordinar el doblaje de una película. Los actores del doblaje deben coincidir en las tomas en las que sus personajes aparecen juntos en las diferentes tomas. Los actores de doblaje cobran todos la misma cantidad por cada día que deben desplazarse hasta el estudio de grabación independientemente del número de tomas que se graben. No es posible grabar más de 6 tomas por día. El objetivo es planificar las sesiones por día de manera que el gasto por los\n",
        "servicios de los actores de doblaje sea el menor posible. Los datos son:\n",
        "- Número de actores: 10\n",
        "- Número de tomas : 30\n",
        "- Actores/Tomas : https://bit.ly/36D8IuK\n",
        "  - 1 indica que el actor participa en la toma\n",
        "  - 0 en caso contrario"
      ]
    },
    {
      "cell_type": "markdown",
      "source": [
        "#Modelo\n",
        "- ¿Como represento el espacio de soluciones?\n",
        "- ¿Cual es la función objetivo?\n",
        "- ¿Como implemento las restricciones?"
      ],
      "metadata": {
        "id": "Sbo9IqQtpaHZ"
      }
    },
    {
      "cell_type": "markdown",
      "source": [],
      "metadata": {
        "id": "67p_vszBposu"
      }
    },
    {
      "cell_type": "markdown",
      "source": [
        "#Análisis\n",
        "- ¿Que complejidad tiene el problema?. Orden de complejidad y Contabilizar el espacio de soluciones"
      ],
      "metadata": {
        "id": "HZz52wOppp-U"
      }
    },
    {
      "cell_type": "code",
      "metadata": {
        "id": "AiskKkzZfy4e",
        "colab": {
          "base_uri": "https://localhost:8080/"
        },
        "outputId": "cbaaf21c-98e9-4633-ed75-19980a17cc06"
      },
      "source": [
        "# Creamos la tabla de tomas\n",
        "Numero_actores = 10\n",
        "\n",
        "Actores_por_Toma = [\n",
        "    {1, 2, 3, 4, 5},  # Toma 1\n",
        "    {3, 4, 5},        # Toma 2\n",
        "    {2, 5, 7},        # Toma 3\n",
        "    {1, 2, 7, 8},     # Toma 4\n",
        "    {2, 4, 8},        # Toma 5\n",
        "    {1, 2, 4, 5},     # Toma 6\n",
        "    {1, 2, 4, 5},     # Toma 7\n",
        "    {1, 2, 6},        # Toma 8\n",
        "    {1, 2, 4},        # Toma 9\n",
        "    {1, 2, 6, 9},     # Toma 10\n",
        "    {1, 2, 3, 5, 8},  # Toma 11\n",
        "    {1, 2, 3, 4, 6},  # Toma 12\n",
        "    {1, 4, 5},        # Toam 13\n",
        "    {1, 3, 6},        # Toma 14\n",
        "    {1, 2, 7},        # Toma 15\n",
        "    {4, 10},          # Toma 16\n",
        "    {1, 3},           # Toma 17\n",
        "    {3, 6},           # Toma 18\n",
        "    {1, 3},           # Toma 19\n",
        "    {1, 3, 4, 5},     # Toma 20\n",
        "    {6, 8},           # Toma 21\n",
        "    {1, 2, 3, 4},     # Toma 22\n",
        "    {1, 3},           # Toma 23\n",
        "    {3, 6},           # Toma 24\n",
        "    {1, 2, 4, 10},    # Toma 25\n",
        "    {1, 3, 5, 9},\n",
        "    {4, 5},\n",
        "    {1, 4},\n",
        "    {1, 5, 6},\n",
        "    {1, 4}\n",
        "    ]\n",
        "\n",
        "Actores_por_Toma"
      ],
      "execution_count": 33,
      "outputs": [
        {
          "output_type": "execute_result",
          "data": {
            "text/plain": [
              "[{1, 2, 3, 4, 5},\n",
              " {3, 4, 5},\n",
              " {2, 5, 7},\n",
              " {1, 2, 7, 8},\n",
              " {2, 4, 8},\n",
              " {1, 2, 4, 5},\n",
              " {1, 2, 4, 5},\n",
              " {1, 2, 6},\n",
              " {1, 2, 4},\n",
              " {1, 2, 6, 9},\n",
              " {1, 2, 3, 5, 8},\n",
              " {1, 2, 3, 4, 6},\n",
              " {1, 4, 5},\n",
              " {1, 3, 6},\n",
              " {1, 2, 7},\n",
              " {4, 10},\n",
              " {1, 3},\n",
              " {3, 6},\n",
              " {1, 3},\n",
              " {1, 3, 4, 5},\n",
              " {6, 8},\n",
              " {1, 2, 3, 4},\n",
              " {1, 3},\n",
              " {3, 6},\n",
              " {1, 2, 4, 10},\n",
              " {1, 3, 5, 9},\n",
              " {4, 5},\n",
              " {1, 4},\n",
              " {1, 5, 6},\n",
              " {1, 4}]"
            ]
          },
          "metadata": {},
          "execution_count": 33
        }
      ]
    },
    {
      "cell_type": "code",
      "source": [
        "Dia_por_Toma = []\n",
        "Dia_por_Toma"
      ],
      "metadata": {
        "id": "_7qzoPdWcpyr",
        "outputId": "90038152-d9aa-4ed7-fff2-33d31d2c76e4",
        "colab": {
          "base_uri": "https://localhost:8080/"
        }
      },
      "execution_count": 25,
      "outputs": [
        {
          "output_type": "execute_result",
          "data": {
            "text/plain": [
              "[]"
            ]
          },
          "metadata": {},
          "execution_count": 25
        }
      ]
    },
    {
      "cell_type": "code",
      "source": [
        "N_Actores_por_toma = [len(x) for x in Actores_por_Toma]\n",
        "print(\"Número de actores por toma: \", N_Actores_por_toma)\n",
        "\n",
        "N_Tomas_por_actor = []\n",
        "for i in range(Numero_actores):\n",
        "  Numero_tomas = 0\n",
        "  for Toma in Actores_por_Toma:\n",
        "    if i+1 in Toma:\n",
        "      Numero_tomas = Numero_tomas + 1\n",
        "  N_Tomas_por_actor.append(Numero_tomas)\n",
        "\n",
        "print(\"Número de tomas por actor: \", N_Tomas_por_actor)"
      ],
      "metadata": {
        "id": "CZ-5BmpspttV",
        "colab": {
          "base_uri": "https://localhost:8080/"
        },
        "outputId": "d8cb59af-8b0b-426f-dc17-136b75606e42"
      },
      "execution_count": 13,
      "outputs": [
        {
          "output_type": "stream",
          "name": "stdout",
          "text": [
            "Número de actores por toma:  [6, 3, 3, 4, 3, 4, 4, 3, 3, 4, 5, 5, 3, 3, 3, 2, 2, 2, 2, 4, 2, 4, 2, 2, 4, 4, 2, 2, 3, 2]\n",
            "Número de tomas por actor:  [22, 14, 13, 15, 11, 8, 3, 5, 2, 2]\n"
          ]
        }
      ]
    },
    {
      "cell_type": "code",
      "source": [
        "def Get_Actores_Dia(Dias_Toma, Actores_Toma):\n",
        "  Actores_Dia = dict()\n",
        "  for i in range(len(Dias_Toma)):\n",
        "    N_Dia = Dias_Toma[i]\n",
        "    if  N_Dia in Actores_Dia:\n",
        "      Actores_Dia[N_Dia].update(Actores_Toma[i])\n",
        "    else:\n",
        "      Actores_Dia[N_Dia] = Actores_Toma[i].copy()\n",
        "  return Actores_Dia\n",
        "\n",
        "Dia_por_Toma = [0, 1, 0, 2, 2]\n",
        "print(Dia_por_Toma)\n",
        "print(Actores_por_Toma)\n",
        "Actores_Dia = Get_Actores_Dia(Dia_por_Toma, Actores_por_Toma)\n",
        "Actores_Dia"
      ],
      "metadata": {
        "id": "uNwGHVELVLqU",
        "outputId": "ba164b75-408a-418f-de1b-b25767c8f0c5",
        "colab": {
          "base_uri": "https://localhost:8080/"
        }
      },
      "execution_count": 34,
      "outputs": [
        {
          "output_type": "stream",
          "name": "stdout",
          "text": [
            "[0, 1, 0, 2, 2]\n",
            "[{1, 2, 3, 4, 5}, {3, 4, 5}, {2, 5, 7}, {8, 1, 2, 7}, {8, 2, 4}, {1, 2, 4, 5}, {1, 2, 4, 5}, {1, 2, 6}, {1, 2, 4}, {1, 2, 6, 9}, {1, 2, 3, 5, 8}, {1, 2, 3, 4, 6}, {1, 4, 5}, {1, 3, 6}, {1, 2, 7}, {10, 4}, {1, 3}, {3, 6}, {1, 3}, {1, 3, 4, 5}, {8, 6}, {1, 2, 3, 4}, {1, 3}, {3, 6}, {1, 2, 10, 4}, {1, 3, 5, 9}, {4, 5}, {1, 4}, {1, 5, 6}, {1, 4}]\n"
          ]
        },
        {
          "output_type": "execute_result",
          "data": {
            "text/plain": [
              "{0: {1, 2, 3, 4, 5, 7}, 1: {3, 4, 5}, 2: {1, 2, 4, 7, 8}}"
            ]
          },
          "metadata": {},
          "execution_count": 34
        }
      ]
    },
    {
      "cell_type": "code",
      "source": [
        "def Get_Gasto(Actores_Dia):\n",
        "  Gasto = 0\n",
        "  for Dia in Actores_Dia:\n",
        "    Gasto = Gasto + len(Actores_Dia[Dia])\n",
        "  return Gasto\n",
        "\n",
        "print(Get_Gasto(Actores_Dia))"
      ],
      "metadata": {
        "id": "Rqs-F5GtGNek",
        "outputId": "294661c5-efe8-45cb-f2ac-43b42a07083d",
        "colab": {
          "base_uri": "https://localhost:8080/"
        }
      },
      "execution_count": 35,
      "outputs": [
        {
          "output_type": "stream",
          "name": "stdout",
          "text": [
            "14\n"
          ]
        }
      ]
    },
    {
      "cell_type": "code",
      "source": [
        "def Siguiente_Nodo(Dia_por_Toma):\n",
        "  Dia_por_Toma[5] = 5\n",
        "\n",
        "def Get_Nodos_Hijos(Dia_Toma):\n",
        "  Nodos = dict\n",
        "\n",
        "print(Dia_por_Toma)\n",
        "Siguiente_Nodo(Dia_por_Toma)\n",
        "print(Dia_por_Toma)"
      ],
      "metadata": {
        "id": "GXefGno7bBf2",
        "outputId": "70410b17-9970-420f-9d35-f977764053b3",
        "colab": {
          "base_uri": "https://localhost:8080/"
        }
      },
      "execution_count": 11,
      "outputs": [
        {
          "output_type": "stream",
          "name": "stdout",
          "text": [
            "[2, 1, -1, -1, 2, -1, -1, -1, -1, -1, -1, -1, -1, -1, -1, -1, -1, -1, -1, -1, -1, -1, -1, -1, -1, -1, -1, -1, -1, -1]\n",
            "[2, 1, -1, -1, 2, 5, -1, -1, -1, -1, -1, -1, -1, -1, -1, -1, -1, -1, -1, -1, -1, -1, -1, -1, -1, -1, -1, -1, -1, -1]\n"
          ]
        }
      ]
    },
    {
      "cell_type": "markdown",
      "source": [],
      "metadata": {
        "id": "Q6h9EizNVIRq"
      }
    },
    {
      "cell_type": "markdown",
      "source": [
        "#Diseño\n",
        "- ¿Que técnica utilizo? ¿Por qué?"
      ],
      "metadata": {
        "id": "ixEJUwH_pv7M"
      }
    },
    {
      "cell_type": "code",
      "source": [
        "#Respuesta"
      ],
      "metadata": {
        "id": "ZdKPjB9gp2BA"
      },
      "execution_count": null,
      "outputs": []
    }
  ]
}